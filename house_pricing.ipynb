{
 "cells": [
  {
   "cell_type": "markdown",
   "metadata": {},
   "source": [
    "## Diving into Feature Engineering:\n",
    "In this notebook I'll use the `feature_columns` method from tensorflow and use it to improove the performance of the predictions of the model. More specific, the following features:\n",
    " + Bucketized columns\n",
    " + Crossed columns\n",
    " + Embedding\n",
    "\n",
    "Designing the correct features and rating the importance of every input is an important step in the design of a machine learning model. With these tools the training process gets faster executing times (if we are able to drop some inputs in exchange for crossed features with much more significance than other inputs), and better performance overall (lower variance). However, some features could induce the model to overfit the data, specially when the dataset is not long enough. "
   ]
  },
  {
   "cell_type": "code",
   "execution_count": 18,
   "metadata": {},
   "outputs": [],
   "source": [
    "# import important stuff:\n",
    "import tensorflow as tf\n",
    "import pandas as pd\n",
    "from tensorflow import feature_column as fc\n",
    "import seaborn as sea\n",
    "from sklearn.model_selection import train_test_split\n",
    "\n",
    "import matplotlib.pyplot as plt\n",
    "\n",
    "\n",
    "# downloading the data\n",
    "# !gsutil cp gs://cloud-training/mlongcp/v3.0_MLonGC/toy_data/housing_pre-proc_toy.csv /data\n",
    "# This dataset (provided by google) already has been cleaned and wrangled.\n",
    "\n",
    "\n",
    "df = pd.read_csv(\"data/housing_pre-proc_toy.csv\")\n",
    "df.head()\n",
    "\n",
    "# now add the roomsxpop feature:\n",
    "df['roomsxpop'] = df['total_rooms']/df['population']"
   ]
  },
  {
   "cell_type": "markdown",
   "metadata": {},
   "source": [
    "It's very important to explore the data, like get the distribution each column shows, creating relations between columns (later this will help when crossing some features), and identify which columns. It's time for some fancy plots."
   ]
  },
  {
   "cell_type": "code",
   "execution_count": 19,
   "metadata": {},
   "outputs": [
    {
     "data": {
      "text/html": [
       "<div>\n",
       "<style scoped>\n",
       "    .dataframe tbody tr th:only-of-type {\n",
       "        vertical-align: middle;\n",
       "    }\n",
       "\n",
       "    .dataframe tbody tr th {\n",
       "        vertical-align: top;\n",
       "    }\n",
       "\n",
       "    .dataframe thead th {\n",
       "        text-align: right;\n",
       "    }\n",
       "</style>\n",
       "<table border=\"1\" class=\"dataframe\">\n",
       "  <thead>\n",
       "    <tr style=\"text-align: right;\">\n",
       "      <th></th>\n",
       "      <th>longitude</th>\n",
       "      <th>latitude</th>\n",
       "      <th>housing_median_age</th>\n",
       "      <th>total_rooms</th>\n",
       "      <th>total_bedrooms</th>\n",
       "      <th>population</th>\n",
       "      <th>households</th>\n",
       "      <th>median_income</th>\n",
       "      <th>median_house_value</th>\n",
       "      <th>roomsxpop</th>\n",
       "    </tr>\n",
       "  </thead>\n",
       "  <tbody>\n",
       "    <tr>\n",
       "      <th>count</th>\n",
       "      <td>2500.000000</td>\n",
       "      <td>2500.000000</td>\n",
       "      <td>2500.000000</td>\n",
       "      <td>2500.000000</td>\n",
       "      <td>2500.000000</td>\n",
       "      <td>2500.000000</td>\n",
       "      <td>2500.000000</td>\n",
       "      <td>2500.000000</td>\n",
       "      <td>2500.000000</td>\n",
       "      <td>2500.000000</td>\n",
       "    </tr>\n",
       "    <tr>\n",
       "      <th>mean</th>\n",
       "      <td>-121.501836</td>\n",
       "      <td>37.802288</td>\n",
       "      <td>30.088400</td>\n",
       "      <td>2522.734000</td>\n",
       "      <td>491.862400</td>\n",
       "      <td>1246.225200</td>\n",
       "      <td>458.122000</td>\n",
       "      <td>3.694312</td>\n",
       "      <td>170288.731200</td>\n",
       "      <td>2.190248</td>\n",
       "    </tr>\n",
       "    <tr>\n",
       "      <th>std</th>\n",
       "      <td>1.015963</td>\n",
       "      <td>0.803090</td>\n",
       "      <td>13.878416</td>\n",
       "      <td>1988.411988</td>\n",
       "      <td>362.499497</td>\n",
       "      <td>925.075463</td>\n",
       "      <td>341.744308</td>\n",
       "      <td>1.859422</td>\n",
       "      <td>97550.278529</td>\n",
       "      <td>2.007444</td>\n",
       "    </tr>\n",
       "    <tr>\n",
       "      <th>min</th>\n",
       "      <td>-124.300000</td>\n",
       "      <td>36.130000</td>\n",
       "      <td>2.000000</td>\n",
       "      <td>12.000000</td>\n",
       "      <td>4.000000</td>\n",
       "      <td>18.000000</td>\n",
       "      <td>2.000000</td>\n",
       "      <td>0.499900</td>\n",
       "      <td>22500.000000</td>\n",
       "      <td>0.237832</td>\n",
       "    </tr>\n",
       "    <tr>\n",
       "      <th>25%</th>\n",
       "      <td>-122.200000</td>\n",
       "      <td>37.600000</td>\n",
       "      <td>18.000000</td>\n",
       "      <td>1420.750000</td>\n",
       "      <td>282.000000</td>\n",
       "      <td>718.000000</td>\n",
       "      <td>263.000000</td>\n",
       "      <td>2.357875</td>\n",
       "      <td>92950.000000</td>\n",
       "      <td>1.712890</td>\n",
       "    </tr>\n",
       "    <tr>\n",
       "      <th>50%</th>\n",
       "      <td>-122.030000</td>\n",
       "      <td>37.800000</td>\n",
       "      <td>30.000000</td>\n",
       "      <td>2052.000000</td>\n",
       "      <td>402.000000</td>\n",
       "      <td>1030.500000</td>\n",
       "      <td>374.500000</td>\n",
       "      <td>3.262200</td>\n",
       "      <td>150800.000000</td>\n",
       "      <td>2.056285</td>\n",
       "    </tr>\n",
       "    <tr>\n",
       "      <th>75%</th>\n",
       "      <td>-120.697500</td>\n",
       "      <td>37.960000</td>\n",
       "      <td>41.000000</td>\n",
       "      <td>3007.250000</td>\n",
       "      <td>581.250000</td>\n",
       "      <td>1488.250000</td>\n",
       "      <td>538.000000</td>\n",
       "      <td>4.662975</td>\n",
       "      <td>219650.000000</td>\n",
       "      <td>2.363483</td>\n",
       "    </tr>\n",
       "    <tr>\n",
       "      <th>max</th>\n",
       "      <td>-118.910000</td>\n",
       "      <td>41.950000</td>\n",
       "      <td>52.000000</td>\n",
       "      <td>28258.000000</td>\n",
       "      <td>3864.000000</td>\n",
       "      <td>12203.000000</td>\n",
       "      <td>3701.000000</td>\n",
       "      <td>15.000100</td>\n",
       "      <td>500001.000000</td>\n",
       "      <td>55.222222</td>\n",
       "    </tr>\n",
       "  </tbody>\n",
       "</table>\n",
       "</div>"
      ],
      "text/plain": [
       "         longitude     latitude  housing_median_age   total_rooms  \\\n",
       "count  2500.000000  2500.000000         2500.000000   2500.000000   \n",
       "mean   -121.501836    37.802288           30.088400   2522.734000   \n",
       "std       1.015963     0.803090           13.878416   1988.411988   \n",
       "min    -124.300000    36.130000            2.000000     12.000000   \n",
       "25%    -122.200000    37.600000           18.000000   1420.750000   \n",
       "50%    -122.030000    37.800000           30.000000   2052.000000   \n",
       "75%    -120.697500    37.960000           41.000000   3007.250000   \n",
       "max    -118.910000    41.950000           52.000000  28258.000000   \n",
       "\n",
       "       total_bedrooms    population   households  median_income  \\\n",
       "count     2500.000000   2500.000000  2500.000000    2500.000000   \n",
       "mean       491.862400   1246.225200   458.122000       3.694312   \n",
       "std        362.499497    925.075463   341.744308       1.859422   \n",
       "min          4.000000     18.000000     2.000000       0.499900   \n",
       "25%        282.000000    718.000000   263.000000       2.357875   \n",
       "50%        402.000000   1030.500000   374.500000       3.262200   \n",
       "75%        581.250000   1488.250000   538.000000       4.662975   \n",
       "max       3864.000000  12203.000000  3701.000000      15.000100   \n",
       "\n",
       "       median_house_value    roomsxpop  \n",
       "count         2500.000000  2500.000000  \n",
       "mean        170288.731200     2.190248  \n",
       "std          97550.278529     2.007444  \n",
       "min          22500.000000     0.237832  \n",
       "25%          92950.000000     1.712890  \n",
       "50%         150800.000000     2.056285  \n",
       "75%         219650.000000     2.363483  \n",
       "max         500001.000000    55.222222  "
      ]
     },
     "execution_count": 19,
     "metadata": {},
     "output_type": "execute_result"
    }
   ],
   "source": [
    "# This method gives general info about each column:\n",
    "df.describe()\n",
    "\n",
    "# Some cols have higher std (standar deviation). This gives a basic idea of how the data is distributed, and (in certain manner) if its statisticly suficcient.\n"
   ]
  },
  {
   "cell_type": "code",
   "execution_count": 20,
   "metadata": {},
   "outputs": [],
   "source": [
    "# Set the theme:\n",
    "sea.set_theme(palette=\"flare\")"
   ]
  },
  {
   "cell_type": "markdown",
   "metadata": {},
   "source": [
    "First lets see the distribution of the data from the **housing_median_age** column:"
   ]
  },
  {
   "cell_type": "code",
   "execution_count": 21,
   "metadata": {},
   "outputs": [
    {
     "data": {
      "text/plain": [
       "<seaborn.axisgrid.FacetGrid at 0x18c19480f10>"
      ]
     },
     "execution_count": 21,
     "metadata": {},
     "output_type": "execute_result"
    },
    {
     "data": {
      "image/png": "[encoded data removed]",
      "text/plain": [
       "<Figure size 360x360 with 1 Axes>"
      ]
     },
     "metadata": {},
     "output_type": "display_data"
    }
   ],
   "source": [
    "sea.displot(data = df, x = 'housing_median_age', kde = True)"
   ]
  },
  {
   "cell_type": "markdown",
   "metadata": {},
   "source": [
    "It looks like a normal distribution with noticeable noise. There are buckets with more data than others. And more data on the last bucket in comparisson with the buckets close to the mean. This factors can cause overfitting, the model having bias over the ages that have more data in contrast with the less populated. \n",
    "Overall, we could say that (in most cases) a new house can be sold with a higher price than older houses. \n",
    "\n",
    "Next, some distributions with huge outliers:"
   ]
  },
  {
   "cell_type": "code",
   "execution_count": 22,
   "metadata": {},
   "outputs": [
    {
     "data": {
      "text/plain": [
       "<seaborn.axisgrid.FacetGrid at 0x18c1efd18b0>"
      ]
     },
     "execution_count": 22,
     "metadata": {},
     "output_type": "execute_result"
    },
    {
     "data": {
      "image/png": "[encoded data removed]",
      "text/plain": [
       "<Figure size 360x360 with 1 Axes>"
      ]
     },
     "metadata": {},
     "output_type": "display_data"
    },
    {
     "data": {
      "image/png": "[encoded data removed]",
      "text/plain": [
       "<Figure size 360x360 with 1 Axes>"
      ]
     },
     "metadata": {},
     "output_type": "display_data"
    },
    {
     "data": {
      "image/png": "[encoded data removed]",
      "text/plain": [
       "<Figure size 360x360 with 1 Axes>"
      ]
     },
     "metadata": {},
     "output_type": "display_data"
    }
   ],
   "source": [
    "sea.displot(data = df, x = 'total_rooms', kde = True)\n",
    "sea.displot(data = df, x = 'population', kde = True)\n",
    "sea.displot(data = df, x = 'median_income', kde = True)"
   ]
  },
  {
   "cell_type": "markdown",
   "metadata": {},
   "source": [
    "As noted by the quantiles in the **describe(  )** output, we can se that the max vaules of this columns are very high. Thus, the model, when computing the loss derivate, is very likely to overfit the data. Some kind of regularization should be implemented for training.\n",
    "\n",
    "Now, the pandas' dataframe has to be converted to a tf.dataset to be used in training:"
   ]
  },
  {
   "cell_type": "code",
   "execution_count": 23,
   "metadata": {},
   "outputs": [],
   "source": [
    "col_names = list(df.columns)\n",
    "label_name = 'median_house_value'\n",
    "\n",
    "# The numeric columns:\n",
    "col_numerics = [\n",
    "    'longitude', 'latitude', 'housing_median_age', \n",
    "    'total_rooms', 'total_bedrooms', 'population', \n",
    "    'households', 'median_income']\n",
    "\n",
    "# There's only 1 categorical column:\n",
    "col_string = 'ocean_proximity'\n",
    "\n",
    "# Batch_size (to be used in the make_csv_dataset from tensorflow])\n",
    "batch_size = 32"
   ]
  },
  {
   "cell_type": "markdown",
   "metadata": {},
   "source": [
    "Now its time to create a tensorflow dataset (tf.data.Dataset) to be used in the training process. In this ocassion, the method used will be applying a function on every row (using the map function) to split the columns, thereby resulting in a pair of \"inputs, label\":"
   ]
  },
  {
   "cell_type": "code",
   "execution_count": 24,
   "metadata": {},
   "outputs": [],
   "source": [
    "# This functions takes a row of the dataset (as a list) and split it into a (inputs, label) pair\n",
    "def split_rows(row):\n",
    "    label = row.pop(label_name)\n",
    "    return row, label\n",
    "\n",
    "# This function takes the name (or pattern) of the csv file were the data is.\n",
    "# There are other methods to load a tensorflow dataset (like converting lists to tensors with tf.data.Dataset.from_tensor_slices())\n",
    "# but with bigger datasets, its more convenient to use .make_csv_dataset() method because it can batch the dataset from the file and \n",
    "# prefetch batchs.\n",
    "\n",
    "def trans_dataset(pattern, mode = 'eval', batch_size = 1):\n",
    "    dataset = tf.data.experimental.make_csv_dataset(pattern, col_names)\n",
    "    # tf.data.Dataset.from_tensor_slices(df[col_numerics]) z-- another way\n",
    "    dataset = dataset.map(split_rows)           # 'map' method applies the function to every row, is like 'apply'\n",
    "\n",
    "    if mode == 'train':\n",
    "        dataset.shuffle(1000).repeat()\n",
    "\n",
    "    return dataset\n",
    "\n",
    "def df_to_dataset(dataframe, shuffle=True, batch_size=32):\n",
    "    dataframe = dataframe.copy()\n",
    "    labels = dataframe.pop('median_house_value')\n",
    "    ds = tf.data.Dataset.from_tensor_slices((dict(dataframe), labels))\n",
    "    if shuffle:\n",
    "        ds = ds.shuffle(buffer_size=len(dataframe))\n",
    "    ds = ds.batch(batch_size)\n",
    "    return ds"
   ]
  },
  {
   "cell_type": "code",
   "execution_count": 25,
   "metadata": {},
   "outputs": [],
   "source": [
    "# Given the small size of the dataset (2500 rows) we can use the 'df' dataframe previously loaded:\n",
    "# and then use this datasets in the model training-validation-test. \n",
    "train_ds, test_ds = train_test_split(df, test_size = 0.2)\n",
    "train_ds, val_ds = train_test_split(train_ds, test_size = 0.2)\n",
    "\n",
    "resultados = test_ds['median_house_value']\n",
    "\n",
    "\n",
    "# However, when the datasets are large enough, we can use the function trans_dataset():\n",
    "train_ds.to_csv(\"data/train_ds.csv\", index = False)\n",
    "test_ds.to_csv(\"data/test_ds.csv\", index = False)\n",
    "val_ds.to_csv(\"data/val_ds.csv\", index = False)\n",
    "\n",
    "# train_ds = trans_dataset('data/train*', 'train')\n",
    "# val_ds = trans_dataset('data/val*')\n",
    "\n",
    "train_ds = df_to_dataset(train_ds)\n",
    "val_ds = df_to_dataset(val_ds)\n",
    "test_ds = df_to_dataset(test_ds)"
   ]
  },
  {
   "cell_type": "markdown",
   "metadata": {},
   "source": [
    "**Models**: \n",
    "Two NN models will be tested. The first one will be a baseline model, with no change on the inputs (they'll go entirely as features). The second one will integrate more features and it'll showcase corss, buckets and other types of features. "
   ]
  },
  {
   "cell_type": "markdown",
   "metadata": {},
   "source": [
    "_Here goes nothing (model 1 ,no-Features)_"
   ]
  },
  {
   "cell_type": "code",
   "execution_count": 26,
   "metadata": {},
   "outputs": [],
   "source": [
    "# ALl numeric inputs will be normalized, this is the only modification to the inputs in this baseline model.\n",
    "def get_scaler(data):\n",
    "    def mixmax(x):\n",
    "        mini = train_ds[data].min()\n",
    "        maxi = train_ds[data].max()\n",
    "        return (x - mini) / (maxi - mini)\n",
    "        return mixmax\n",
    "\n",
    "\n",
    "feature_cols = []\n",
    "\n",
    "for feature in col_numerics:\n",
    "    scaler = get_scaler(feature)\n",
    "    feature_cols.append(fc.numeric_column(feature, normalizer_fn=scaler))"
   ]
  },
  {
   "cell_type": "code",
   "execution_count": 27,
   "metadata": {},
   "outputs": [
    {
     "name": "stdout",
     "output_type": "stream",
     "text": [
      "Input dim: 8\n",
      "Epoch 1/20\n",
      "WARNING:tensorflow:Layers in a Sequential model should only have a single input tensor. Received: inputs={'longitude': <tf.Tensor 'IteratorGetNext:3' shape=(None,) dtype=float64>, 'latitude': <tf.Tensor 'IteratorGetNext:2' shape=(None,) dtype=float64>, 'housing_median_age': <tf.Tensor 'IteratorGetNext:1' shape=(None,) dtype=int64>, 'total_rooms': <tf.Tensor 'IteratorGetNext:9' shape=(None,) dtype=int64>, 'total_bedrooms': <tf.Tensor 'IteratorGetNext:8' shape=(None,) dtype=int64>, 'population': <tf.Tensor 'IteratorGetNext:6' shape=(None,) dtype=int64>, 'households': <tf.Tensor 'IteratorGetNext:0' shape=(None,) dtype=int64>, 'median_income': <tf.Tensor 'IteratorGetNext:4' shape=(None,) dtype=float64>, 'ocean_proximity': <tf.Tensor 'IteratorGetNext:5' shape=(None,) dtype=string>, 'roomsxpop': <tf.Tensor 'IteratorGetNext:7' shape=(None,) dtype=float64>}. Consider rewriting this model with the Functional API.\n",
      "WARNING:tensorflow:Layers in a Sequential model should only have a single input tensor. Received: inputs={'longitude': <tf.Tensor 'IteratorGetNext:3' shape=(None,) dtype=float64>, 'latitude': <tf.Tensor 'IteratorGetNext:2' shape=(None,) dtype=float64>, 'housing_median_age': <tf.Tensor 'IteratorGetNext:1' shape=(None,) dtype=int64>, 'total_rooms': <tf.Tensor 'IteratorGetNext:9' shape=(None,) dtype=int64>, 'total_bedrooms': <tf.Tensor 'IteratorGetNext:8' shape=(None,) dtype=int64>, 'population': <tf.Tensor 'IteratorGetNext:6' shape=(None,) dtype=int64>, 'households': <tf.Tensor 'IteratorGetNext:0' shape=(None,) dtype=int64>, 'median_income': <tf.Tensor 'IteratorGetNext:4' shape=(None,) dtype=float64>, 'ocean_proximity': <tf.Tensor 'IteratorGetNext:5' shape=(None,) dtype=string>, 'roomsxpop': <tf.Tensor 'IteratorGetNext:7' shape=(None,) dtype=float64>}. Consider rewriting this model with the Functional API.\n",
      "39/50 [======================>.......] - ETA: 0s - loss: 37629374464.0000 - mse: 37629374464.0000WARNING:tensorflow:Layers in a Sequential model should only have a single input tensor. Received: inputs={'longitude': <tf.Tensor 'IteratorGetNext:3' shape=(None,) dtype=float64>, 'latitude': <tf.Tensor 'IteratorGetNext:2' shape=(None,) dtype=float64>, 'housing_median_age': <tf.Tensor 'IteratorGetNext:1' shape=(None,) dtype=int64>, 'total_rooms': <tf.Tensor 'IteratorGetNext:9' shape=(None,) dtype=int64>, 'total_bedrooms': <tf.Tensor 'IteratorGetNext:8' shape=(None,) dtype=int64>, 'population': <tf.Tensor 'IteratorGetNext:6' shape=(None,) dtype=int64>, 'households': <tf.Tensor 'IteratorGetNext:0' shape=(None,) dtype=int64>, 'median_income': <tf.Tensor 'IteratorGetNext:4' shape=(None,) dtype=float64>, 'ocean_proximity': <tf.Tensor 'IteratorGetNext:5' shape=(None,) dtype=string>, 'roomsxpop': <tf.Tensor 'IteratorGetNext:7' shape=(None,) dtype=float64>}. Consider rewriting this model with the Functional API.\n",
      "50/50 [==============================] - 1s 8ms/step - loss: 38333239296.0000 - mse: 38333239296.0000 - val_loss: 39164157952.0000 - val_mse: 39164157952.0000\n",
      "Epoch 2/20\n",
      "50/50 [==============================] - 0s 4ms/step - loss: 38108725248.0000 - mse: 38108725248.0000 - val_loss: 38817251328.0000 - val_mse: 38817251328.0000\n",
      "Epoch 3/20\n",
      "50/50 [==============================] - 0s 5ms/step - loss: 37684924416.0000 - mse: 37684924416.0000 - val_loss: 38187012096.0000 - val_mse: 38187012096.0000\n",
      "Epoch 4/20\n",
      "50/50 [==============================] - 0s 6ms/step - loss: 36907196416.0000 - mse: 36907196416.0000 - val_loss: 36988559360.0000 - val_mse: 36988559360.0000\n",
      "Epoch 5/20\n",
      "50/50 [==============================] - 0s 4ms/step - loss: 35379793920.0000 - mse: 35379793920.0000 - val_loss: 34698866688.0000 - val_mse: 34698866688.0000\n",
      "Epoch 6/20\n",
      "50/50 [==============================] - 0s 4ms/step - loss: 32690808832.0000 - mse: 32690808832.0000 - val_loss: 30980136960.0000 - val_mse: 30980136960.0000\n",
      "Epoch 7/20\n",
      "50/50 [==============================] - 0s 5ms/step - loss: 28618123264.0000 - mse: 28618123264.0000 - val_loss: 25951051776.0000 - val_mse: 25951051776.0000\n",
      "Epoch 8/20\n",
      "50/50 [==============================] - 0s 4ms/step - loss: 23568476160.0000 - mse: 23568476160.0000 - val_loss: 20483497984.0000 - val_mse: 20483497984.0000\n",
      "Epoch 9/20\n",
      "50/50 [==============================] - 0s 4ms/step - loss: 19048898560.0000 - mse: 19048898560.0000 - val_loss: 17055740928.0000 - val_mse: 17055740928.0000\n",
      "Epoch 10/20\n",
      "50/50 [==============================] - 0s 4ms/step - loss: 16607385600.0000 - mse: 16607385600.0000 - val_loss: 16055944192.0000 - val_mse: 16055944192.0000\n",
      "Epoch 11/20\n",
      "50/50 [==============================] - 0s 4ms/step - loss: 15845300224.0000 - mse: 15845300224.0000 - val_loss: 16010336256.0000 - val_mse: 16010336256.0000\n",
      "Epoch 12/20\n",
      "50/50 [==============================] - 0s 4ms/step - loss: 15674839040.0000 - mse: 15674839040.0000 - val_loss: 16025092096.0000 - val_mse: 16025092096.0000\n",
      "Epoch 13/20\n",
      "50/50 [==============================] - 0s 4ms/step - loss: 15621316608.0000 - mse: 15621316608.0000 - val_loss: 16088465408.0000 - val_mse: 16088465408.0000\n",
      "Epoch 14/20\n",
      "50/50 [==============================] - 0s 4ms/step - loss: 15588443136.0000 - mse: 15588443136.0000 - val_loss: 15991963648.0000 - val_mse: 15991963648.0000\n",
      "Epoch 15/20\n",
      "50/50 [==============================] - 0s 4ms/step - loss: 15530951680.0000 - mse: 15530951680.0000 - val_loss: 16013620224.0000 - val_mse: 16013620224.0000\n",
      "Epoch 16/20\n",
      "50/50 [==============================] - 0s 4ms/step - loss: 15484628992.0000 - mse: 15484628992.0000 - val_loss: 15872291840.0000 - val_mse: 15872291840.0000\n",
      "Epoch 17/20\n",
      "50/50 [==============================] - 0s 4ms/step - loss: 15441961984.0000 - mse: 15441961984.0000 - val_loss: 15913736192.0000 - val_mse: 15913736192.0000\n",
      "Epoch 18/20\n",
      "50/50 [==============================] - 0s 4ms/step - loss: 15379304448.0000 - mse: 15379304448.0000 - val_loss: 15822947328.0000 - val_mse: 15822947328.0000\n",
      "Epoch 19/20\n",
      "50/50 [==============================] - 0s 4ms/step - loss: 15336159232.0000 - mse: 15336159232.0000 - val_loss: 15753390080.0000 - val_mse: 15753390080.0000\n",
      "Epoch 20/20\n",
      "50/50 [==============================] - 0s 4ms/step - loss: 15293264896.0000 - mse: 15293264896.0000 - val_loss: 15727304704.0000 - val_mse: 15727304704.0000\n"
     ]
    }
   ],
   "source": [
    "# Dense tensor as input\n",
    "\n",
    "features_tensor = tf.keras.layers.DenseFeatures(feature_cols, dtype = 'float64')\n",
    "nn = len(feature_cols)\n",
    "print(\"Input dim: {}\".format(str(nn)))\n",
    "basel_model = tf.keras.Sequential([\n",
    "    features_tensor,\n",
    "    tf.keras.layers.Dense(nn, input_dim = nn, activation = 'relu'),\n",
    "    tf.keras.layers.Dense(16, activation = 'relu'),\n",
    "    tf.keras.layers.Dense(1, activation = 'linear', name = 'median_house_value')\n",
    "])\n",
    "\n",
    "basel_model.compile(optimizer = 'adam',\n",
    "                    loss = 'mse',\n",
    "                    metrics = ['mse'])\n",
    "\n",
    "b_results = basel_model.fit(train_ds, validation_data = val_ds, epochs = 20)"
   ]
  },
  {
   "cell_type": "markdown",
   "metadata": {},
   "source": [
    "#### Now the model with more features: "
   ]
  },
  {
   "cell_type": "code",
   "execution_count": 28,
   "metadata": {},
   "outputs": [],
   "source": [
    "#Getting block's location can be accomplished with a crossed feature between longitude and latitude:\n",
    "crossed_Feature = fc.crossed_column(['longitude', 'latitude'], 500)\n",
    "features = []\n",
    "\n",
    "location = fc.indicator_column(crossed_Feature)\n",
    "\n",
    "col_numerics_2 = [\n",
    "    'housing_median_age', \n",
    "    'total_rooms', 'total_bedrooms', 'population', \n",
    "    'households', 'median_income', 'roomsxpop']\n",
    "\n",
    "\n",
    "# Second, given the distribution of the \"population\" column, \n",
    "# a bucketized feature should be usefull\n",
    "\n",
    "for number_fc in col_numerics_2:\n",
    "    scaler_x = get_scaler(number_fc)\n",
    "    features.append(fc.numeric_column(number_fc, normalizer_fn=scaler_x))\n",
    "\n",
    "\n",
    "population_buckets = fc.bucketized_column(fc.numeric_column('population'), [750, 1000, 1200, 1500, 2000]) # this will split the population in 6 buckets\n",
    "\n",
    "features.append(population_buckets)\n",
    "features.append(location)"
   ]
  },
  {
   "cell_type": "code",
   "execution_count": 29,
   "metadata": {},
   "outputs": [
    {
     "name": "stdout",
     "output_type": "stream",
     "text": [
      "[NumericColumn(key='housing_median_age', shape=(1,), default_value=None, dtype=tf.float32, normalizer_fn=None), NumericColumn(key='total_rooms', shape=(1,), default_value=None, dtype=tf.float32, normalizer_fn=None), NumericColumn(key='total_bedrooms', shape=(1,), default_value=None, dtype=tf.float32, normalizer_fn=None), NumericColumn(key='population', shape=(1,), default_value=None, dtype=tf.float32, normalizer_fn=None), NumericColumn(key='households', shape=(1,), default_value=None, dtype=tf.float32, normalizer_fn=None), NumericColumn(key='median_income', shape=(1,), default_value=None, dtype=tf.float32, normalizer_fn=None), NumericColumn(key='roomsxpop', shape=(1,), default_value=None, dtype=tf.float32, normalizer_fn=None), BucketizedColumn(source_column=NumericColumn(key='population', shape=(1,), default_value=None, dtype=tf.float32, normalizer_fn=None), boundaries=(750, 1000, 1200, 1500, 2000)), IndicatorColumn(categorical_column=CrossedColumn(keys=('longitude', 'latitude'), hash_bucket_size=500, hash_key=None)), IndicatorColumn(categorical_column=VocabularyListCategoricalColumn(key='ocean_proximity', vocabulary_list=('NEAR BAY', '<1H OCEAN', 'INLAND', 'NEAR OCEAN'), dtype=tf.string, default_value=-1, num_oov_buckets=0))]\n"
     ]
    }
   ],
   "source": [
    "# One-hot OCEAN PROXIMITY:\n",
    "\n",
    "vocab = df[col_string].unique()\n",
    "\n",
    "one_hot_OP = fc.categorical_column_with_vocabulary_list(col_string, vocab)\n",
    "one_hot_Feature = fc.indicator_column(one_hot_OP)\n",
    "\n",
    "features.append(one_hot_Feature)\n",
    "\n",
    "print(features)"
   ]
  },
  {
   "cell_type": "markdown",
   "metadata": {},
   "source": [
    "In this case, the new features are:\n",
    "+ Location (crossing latitude and longitude)\n",
    "+ Population discretized (bucketized)\n",
    "+ Rooms per person (number of rooms / population)\n",
    "+ One-hot encoding Ocean proximity\n",
    "\n",
    "Now, the training:"
   ]
  },
  {
   "cell_type": "code",
   "execution_count": 40,
   "metadata": {},
   "outputs": [
    {
     "name": "stdout",
     "output_type": "stream",
     "text": [
      "Epoch 1/20\n",
      "WARNING:tensorflow:Layers in a Sequential model should only have a single input tensor. Received: inputs={'longitude': <tf.Tensor 'IteratorGetNext:3' shape=(None,) dtype=float64>, 'latitude': <tf.Tensor 'IteratorGetNext:2' shape=(None,) dtype=float64>, 'housing_median_age': <tf.Tensor 'IteratorGetNext:1' shape=(None,) dtype=int64>, 'total_rooms': <tf.Tensor 'IteratorGetNext:9' shape=(None,) dtype=int64>, 'total_bedrooms': <tf.Tensor 'IteratorGetNext:8' shape=(None,) dtype=int64>, 'population': <tf.Tensor 'IteratorGetNext:6' shape=(None,) dtype=int64>, 'households': <tf.Tensor 'IteratorGetNext:0' shape=(None,) dtype=int64>, 'median_income': <tf.Tensor 'IteratorGetNext:4' shape=(None,) dtype=float64>, 'ocean_proximity': <tf.Tensor 'IteratorGetNext:5' shape=(None,) dtype=string>, 'roomsxpop': <tf.Tensor 'IteratorGetNext:7' shape=(None,) dtype=float64>}. Consider rewriting this model with the Functional API.\n",
      "WARNING:tensorflow:Layers in a Sequential model should only have a single input tensor. Received: inputs={'longitude': <tf.Tensor 'IteratorGetNext:3' shape=(None,) dtype=float64>, 'latitude': <tf.Tensor 'IteratorGetNext:2' shape=(None,) dtype=float64>, 'housing_median_age': <tf.Tensor 'IteratorGetNext:1' shape=(None,) dtype=int64>, 'total_rooms': <tf.Tensor 'IteratorGetNext:9' shape=(None,) dtype=int64>, 'total_bedrooms': <tf.Tensor 'IteratorGetNext:8' shape=(None,) dtype=int64>, 'population': <tf.Tensor 'IteratorGetNext:6' shape=(None,) dtype=int64>, 'households': <tf.Tensor 'IteratorGetNext:0' shape=(None,) dtype=int64>, 'median_income': <tf.Tensor 'IteratorGetNext:4' shape=(None,) dtype=float64>, 'ocean_proximity': <tf.Tensor 'IteratorGetNext:5' shape=(None,) dtype=string>, 'roomsxpop': <tf.Tensor 'IteratorGetNext:7' shape=(None,) dtype=float64>}. Consider rewriting this model with the Functional API.\n",
      "42/50 [========================>.....] - ETA: 0s - loss: 38291709952.0000 - mse: 38291709952.0000WARNING:tensorflow:Layers in a Sequential model should only have a single input tensor. Received: inputs={'longitude': <tf.Tensor 'IteratorGetNext:3' shape=(None,) dtype=float64>, 'latitude': <tf.Tensor 'IteratorGetNext:2' shape=(None,) dtype=float64>, 'housing_median_age': <tf.Tensor 'IteratorGetNext:1' shape=(None,) dtype=int64>, 'total_rooms': <tf.Tensor 'IteratorGetNext:9' shape=(None,) dtype=int64>, 'total_bedrooms': <tf.Tensor 'IteratorGetNext:8' shape=(None,) dtype=int64>, 'population': <tf.Tensor 'IteratorGetNext:6' shape=(None,) dtype=int64>, 'households': <tf.Tensor 'IteratorGetNext:0' shape=(None,) dtype=int64>, 'median_income': <tf.Tensor 'IteratorGetNext:4' shape=(None,) dtype=float64>, 'ocean_proximity': <tf.Tensor 'IteratorGetNext:5' shape=(None,) dtype=string>, 'roomsxpop': <tf.Tensor 'IteratorGetNext:7' shape=(None,) dtype=float64>}. Consider rewriting this model with the Functional API.\n",
      "50/50 [==============================] - 2s 17ms/step - loss: 38421995520.0000 - mse: 38421995520.0000 - val_loss: 39258734592.0000 - val_mse: 39258734592.0000\n",
      "Epoch 2/20\n",
      "50/50 [==============================] - 0s 5ms/step - loss: 38116638720.0000 - mse: 38116638720.0000 - val_loss: 38708346880.0000 - val_mse: 38708346880.0000\n",
      "Epoch 3/20\n",
      "50/50 [==============================] - 0s 5ms/step - loss: 37364277248.0000 - mse: 37364277248.0000 - val_loss: 37502230528.0000 - val_mse: 37502230528.0000\n",
      "Epoch 4/20\n",
      "50/50 [==============================] - 0s 5ms/step - loss: 35885064192.0000 - mse: 35885064192.0000 - val_loss: 35332751360.0000 - val_mse: 35332751360.0000\n",
      "Epoch 5/20\n",
      "50/50 [==============================] - 0s 5ms/step - loss: 33444106240.0000 - mse: 33444106240.0000 - val_loss: 32087015424.0000 - val_mse: 32087015424.0000\n",
      "Epoch 6/20\n",
      "50/50 [==============================] - 0s 6ms/step - loss: 30064209920.0000 - mse: 30064209920.0000 - val_loss: 27988355072.0000 - val_mse: 27988355072.0000\n",
      "Epoch 7/20\n",
      "50/50 [==============================] - 0s 5ms/step - loss: 26123098112.0000 - mse: 26123098112.0000 - val_loss: 23635372032.0000 - val_mse: 23635372032.0000\n",
      "Epoch 8/20\n",
      "50/50 [==============================] - 0s 5ms/step - loss: 22242963456.0000 - mse: 22242963456.0000 - val_loss: 19979765760.0000 - val_mse: 19979765760.0000\n",
      "Epoch 9/20\n",
      "50/50 [==============================] - 0s 5ms/step - loss: 19170562048.0000 - mse: 19170562048.0000 - val_loss: 17675769856.0000 - val_mse: 17675769856.0000\n",
      "Epoch 10/20\n",
      "50/50 [==============================] - 0s 5ms/step - loss: 17333149696.0000 - mse: 17333149696.0000 - val_loss: 16681586688.0000 - val_mse: 16681586688.0000\n",
      "Epoch 11/20\n",
      "50/50 [==============================] - 0s 5ms/step - loss: 16509373440.0000 - mse: 16509373440.0000 - val_loss: 16462503936.0000 - val_mse: 16462503936.0000\n",
      "Epoch 12/20\n",
      "50/50 [==============================] - 0s 5ms/step - loss: 16219385856.0000 - mse: 16219385856.0000 - val_loss: 16491765760.0000 - val_mse: 16491765760.0000\n",
      "Epoch 13/20\n",
      "50/50 [==============================] - 0s 5ms/step - loss: 16128050176.0000 - mse: 16128050176.0000 - val_loss: 16583665664.0000 - val_mse: 16583665664.0000\n",
      "Epoch 14/20\n",
      "50/50 [==============================] - 0s 5ms/step - loss: 16112826368.0000 - mse: 16112826368.0000 - val_loss: 16570566656.0000 - val_mse: 16570566656.0000\n",
      "Epoch 15/20\n",
      "50/50 [==============================] - 0s 5ms/step - loss: 16107470848.0000 - mse: 16107470848.0000 - val_loss: 16602750976.0000 - val_mse: 16602750976.0000\n",
      "Epoch 16/20\n",
      "50/50 [==============================] - 0s 7ms/step - loss: 16079089664.0000 - mse: 16079089664.0000 - val_loss: 16586853376.0000 - val_mse: 16586853376.0000\n",
      "Epoch 17/20\n",
      "50/50 [==============================] - 0s 5ms/step - loss: 16070658048.0000 - mse: 16070658048.0000 - val_loss: 16595162112.0000 - val_mse: 16595162112.0000\n",
      "Epoch 18/20\n",
      "50/50 [==============================] - 0s 5ms/step - loss: 16046918656.0000 - mse: 16046918656.0000 - val_loss: 16541954048.0000 - val_mse: 16541954048.0000\n",
      "Epoch 19/20\n",
      "50/50 [==============================] - 0s 5ms/step - loss: 16034958336.0000 - mse: 16034958336.0000 - val_loss: 16585241600.0000 - val_mse: 16585241600.0000\n",
      "Epoch 20/20\n",
      "50/50 [==============================] - 0s 5ms/step - loss: 16022091776.0000 - mse: 16022091776.0000 - val_loss: 16524125184.0000 - val_mse: 16524125184.0000\n"
     ]
    }
   ],
   "source": [
    "feature_layer = layers.DenseFeatures(features, dtype = 'float64')\n",
    "nn = len(features)\n",
    "\n",
    "featured_model = tf.keras.models.Sequential([\n",
    "    feature_layer,\n",
    "    tf.keras.layers.Dense(nn, input_dim = nn, activation = 'relu'),\n",
    "    tf.keras.layers.Dense(16, activation = 'relu'),\n",
    "    tf.keras.layers.Dense(1, activation = 'relu', name = 'median_house_value')\n",
    "])\n",
    "\n",
    "featured_model.compile(optimizer = 'adam',\n",
    "                           loss = 'mse',\n",
    "                        metrics = ['mse',])\n",
    "\n",
    "f_results = featured_model.fit(train_ds, validation_data= val_ds, epochs = 20)\n"
   ]
  },
  {
   "cell_type": "markdown",
   "metadata": {},
   "source": [
    "Now, it's time to compare the performance of each model.\n",
    "First, the learning curves."
   ]
  },
  {
   "cell_type": "code",
   "execution_count": 38,
   "metadata": {},
   "outputs": [],
   "source": [
    "def show_curves(data1, data2):\n",
    "    nrows = 1\n",
    "    ncols = 2\n",
    "    fig = plt.figure(figsize=(10, 5))\n",
    "\n",
    "    ax = fig.add_subplot(nrows, ncols, 1)\n",
    "    plt.plot(data1.history['mse'])\n",
    "    plt.plot(data1.history['val_{}'.format('mse')])\n",
    "    plt.title('Base model {}'.format('mse'))\n",
    "    plt.ylabel('mse')\n",
    "    plt.xlabel('epoch')\n",
    "    plt.legend(['train', 'validation'], loc='upper left');  \n",
    "\n",
    "    ax = fig.add_subplot(nrows, ncols, 2)\n",
    "    plt.plot(data2.history['mse'])\n",
    "    plt.plot(data2.history['val_{}'.format('mse')])\n",
    "    plt.title('Featured model {}'.format('mse'))\n",
    "    plt.ylabel('mse')\n",
    "    plt.xlabel('epoch')\n",
    "    plt.legend(['train', 'validation'], loc='upper left');  "
   ]
  },
  {
   "cell_type": "code",
   "execution_count": 41,
   "metadata": {},
   "outputs": [
    {
     "data": {
      "image/png": "[encoded data removed]",
      "text/plain": [
       "<Figure size 720x360 with 2 Axes>"
      ]
     },
     "metadata": {},
     "output_type": "display_data"
    }
   ],
   "source": [
    "show_curves(b_results, f_results)"
   ]
  },
  {
   "cell_type": "code",
   "execution_count": 33,
   "metadata": {},
   "outputs": [
    {
     "name": "stdout",
     "output_type": "stream",
     "text": [
      "WARNING:tensorflow:Layers in a Sequential model should only have a single input tensor. Received: inputs={'longitude': <tf.Tensor 'IteratorGetNext:3' shape=(None,) dtype=float64>, 'latitude': <tf.Tensor 'IteratorGetNext:2' shape=(None,) dtype=float64>, 'housing_median_age': <tf.Tensor 'IteratorGetNext:1' shape=(None,) dtype=int64>, 'total_rooms': <tf.Tensor 'IteratorGetNext:9' shape=(None,) dtype=int64>, 'total_bedrooms': <tf.Tensor 'IteratorGetNext:8' shape=(None,) dtype=int64>, 'population': <tf.Tensor 'IteratorGetNext:6' shape=(None,) dtype=int64>, 'households': <tf.Tensor 'IteratorGetNext:0' shape=(None,) dtype=int64>, 'median_income': <tf.Tensor 'IteratorGetNext:4' shape=(None,) dtype=float64>, 'ocean_proximity': <tf.Tensor 'IteratorGetNext:5' shape=(None,) dtype=string>, 'roomsxpop': <tf.Tensor 'IteratorGetNext:7' shape=(None,) dtype=float64>}. Consider rewriting this model with the Functional API.\n",
      "WARNING:tensorflow:Layers in a Sequential model should only have a single input tensor. Received: inputs={'longitude': <tf.Tensor 'IteratorGetNext:3' shape=(None,) dtype=float64>, 'latitude': <tf.Tensor 'IteratorGetNext:2' shape=(None,) dtype=float64>, 'housing_median_age': <tf.Tensor 'IteratorGetNext:1' shape=(None,) dtype=int64>, 'total_rooms': <tf.Tensor 'IteratorGetNext:9' shape=(None,) dtype=int64>, 'total_bedrooms': <tf.Tensor 'IteratorGetNext:8' shape=(None,) dtype=int64>, 'population': <tf.Tensor 'IteratorGetNext:6' shape=(None,) dtype=int64>, 'households': <tf.Tensor 'IteratorGetNext:0' shape=(None,) dtype=int64>, 'median_income': <tf.Tensor 'IteratorGetNext:4' shape=(None,) dtype=float64>, 'ocean_proximity': <tf.Tensor 'IteratorGetNext:5' shape=(None,) dtype=string>, 'roomsxpop': <tf.Tensor 'IteratorGetNext:7' shape=(None,) dtype=float64>}. Consider rewriting this model with the Functional API.\n"
     ]
    }
   ],
   "source": [
    "#basel_model.predict_on_batch(test_ds)\n",
    "pred_base = basel_model.predict(test_ds)\n",
    "pred_featured = featured_model.predict(test_ds)"
   ]
  },
  {
   "cell_type": "code",
   "execution_count": 34,
   "metadata": {},
   "outputs": [
    {
     "ename": "NameError",
     "evalue": "name 'np' is not defined",
     "output_type": "error",
     "traceback": [
      "\u001b[1;31m---------------------------------------------------------------------------\u001b[0m",
      "\u001b[1;31mNameError\u001b[0m                                 Traceback (most recent call last)",
      "\u001b[1;32m~\\AppData\\Local\\Temp/ipykernel_10212/1850494753.py\u001b[0m in \u001b[0;36m<module>\u001b[1;34m\u001b[0m\n\u001b[1;32m----> 1\u001b[1;33m \u001b[0macc_base\u001b[0m \u001b[1;33m=\u001b[0m \u001b[0mresultados\u001b[0m\u001b[1;33m.\u001b[0m\u001b[0marray\u001b[0m \u001b[1;33m-\u001b[0m \u001b[0mnp\u001b[0m\u001b[1;33m.\u001b[0m\u001b[0marray\u001b[0m\u001b[1;33m(\u001b[0m\u001b[0mpred_base\u001b[0m\u001b[1;33m)\u001b[0m\u001b[1;33m\u001b[0m\u001b[1;33m\u001b[0m\u001b[0m\n\u001b[0m\u001b[0;32m      2\u001b[0m \u001b[0macc_base\u001b[0m\u001b[1;33m.\u001b[0m\u001b[0msum\u001b[0m\u001b[1;33m(\u001b[0m\u001b[1;33m)\u001b[0m\u001b[1;33m/\u001b[0m\u001b[0mlen\u001b[0m\u001b[1;33m(\u001b[0m\u001b[0macc_base\u001b[0m\u001b[1;33m)\u001b[0m\u001b[1;33m\u001b[0m\u001b[1;33m\u001b[0m\u001b[0m\n",
      "\u001b[1;31mNameError\u001b[0m: name 'np' is not defined"
     ]
    }
   ],
   "source": [
    "acc_base = resultados.array - np.array(pred_base)\n",
    "acc_base.sum()/len(acc_base)"
   ]
  },
  {
   "cell_type": "code",
   "execution_count": null,
   "metadata": {},
   "outputs": [
    {
     "data": {
      "text/plain": [
       "22308334.881347656"
      ]
     },
     "execution_count": 108,
     "metadata": {},
     "output_type": "execute_result"
    }
   ],
   "source": [
    "acc_featured = resultados.array - np.array(pred_featured)\n",
    "acc_featured.sum()/len(acc_featured)\n"
   ]
  },
  {
   "cell_type": "code",
   "execution_count": null,
   "metadata": {},
   "outputs": [],
   "source": []
  },
  {
   "cell_type": "code",
   "execution_count": null,
   "metadata": {},
   "outputs": [],
   "source": []
  }
 ],
 "metadata": {
  "interpreter": {
   "hash": "ad2bdc8ecc057115af97d19610ffacc2b4e99fae6737bb82f5d7fb13d2f2c186"
  },
  "kernelspec": {
   "display_name": "Python 3.9.7 ('base')",
   "language": "python",
   "name": "python3"
  },
  "language_info": {
   "codemirror_mode": {
    "name": "ipython",
    "version": 3
   },
   "file_extension": ".py",
   "mimetype": "text/x-python",
   "name": "python",
   "nbconvert_exporter": "python",
   "pygments_lexer": "ipython3",
   "version": "3.9.7"
  },
  "orig_nbformat": 4
 },
 "nbformat": 4,
 "nbformat_minor": 2
}
