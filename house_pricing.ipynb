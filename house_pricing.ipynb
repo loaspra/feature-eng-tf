{
 "cells": [
  {
   "cell_type": "markdown",
   "metadata": {},
   "source": [
    "## Diving into Feature Engineering:\n",
    "In this notebook I'll use the `feature_columns` method from tensorflow and use it to improove the performance of the predictions of the model. More specific, the following features:\n",
    " + Bucketized columns\n",
    " + Crossed columns\n",
    " + Embedding\n",
    "\n",
    "Designing the correct features and rating the importance of every input is an important step in the design of a machine learning model. With these tools the training process gets faster executing times (if we are able to drop some inputs in exchange for crossed features with much more significance than other inputs), and better performance overall (lower variance). However, some features could induce the model to overfit the data, specially when the dataset is not long enough. "
   ]
  },
  {
   "cell_type": "code",
   "execution_count": 23,
   "metadata": {},
   "outputs": [
    {
     "data": {
      "text/html": [
       "<div>\n",
       "<style scoped>\n",
       "    .dataframe tbody tr th:only-of-type {\n",
       "        vertical-align: middle;\n",
       "    }\n",
       "\n",
       "    .dataframe tbody tr th {\n",
       "        vertical-align: top;\n",
       "    }\n",
       "\n",
       "    .dataframe thead th {\n",
       "        text-align: right;\n",
       "    }\n",
       "</style>\n",
       "<table border=\"1\" class=\"dataframe\">\n",
       "  <thead>\n",
       "    <tr style=\"text-align: right;\">\n",
       "      <th></th>\n",
       "      <th>longitude</th>\n",
       "      <th>latitude</th>\n",
       "      <th>housing_median_age</th>\n",
       "      <th>total_rooms</th>\n",
       "      <th>total_bedrooms</th>\n",
       "      <th>population</th>\n",
       "      <th>households</th>\n",
       "      <th>median_income</th>\n",
       "      <th>median_house_value</th>\n",
       "      <th>ocean_proximity</th>\n",
       "    </tr>\n",
       "  </thead>\n",
       "  <tbody>\n",
       "    <tr>\n",
       "      <th>0</th>\n",
       "      <td>-122.23</td>\n",
       "      <td>37.88</td>\n",
       "      <td>41</td>\n",
       "      <td>880</td>\n",
       "      <td>129</td>\n",
       "      <td>322</td>\n",
       "      <td>126</td>\n",
       "      <td>8.3252</td>\n",
       "      <td>452600</td>\n",
       "      <td>NEAR BAY</td>\n",
       "    </tr>\n",
       "    <tr>\n",
       "      <th>1</th>\n",
       "      <td>-122.22</td>\n",
       "      <td>37.86</td>\n",
       "      <td>21</td>\n",
       "      <td>7099</td>\n",
       "      <td>1106</td>\n",
       "      <td>2401</td>\n",
       "      <td>1138</td>\n",
       "      <td>8.3014</td>\n",
       "      <td>358500</td>\n",
       "      <td>NEAR BAY</td>\n",
       "    </tr>\n",
       "    <tr>\n",
       "      <th>2</th>\n",
       "      <td>-122.24</td>\n",
       "      <td>37.85</td>\n",
       "      <td>52</td>\n",
       "      <td>1467</td>\n",
       "      <td>190</td>\n",
       "      <td>496</td>\n",
       "      <td>177</td>\n",
       "      <td>7.2574</td>\n",
       "      <td>352100</td>\n",
       "      <td>NEAR BAY</td>\n",
       "    </tr>\n",
       "    <tr>\n",
       "      <th>3</th>\n",
       "      <td>-122.25</td>\n",
       "      <td>37.85</td>\n",
       "      <td>52</td>\n",
       "      <td>1274</td>\n",
       "      <td>235</td>\n",
       "      <td>558</td>\n",
       "      <td>219</td>\n",
       "      <td>5.6431</td>\n",
       "      <td>341300</td>\n",
       "      <td>NEAR BAY</td>\n",
       "    </tr>\n",
       "    <tr>\n",
       "      <th>4</th>\n",
       "      <td>-122.25</td>\n",
       "      <td>37.85</td>\n",
       "      <td>52</td>\n",
       "      <td>1627</td>\n",
       "      <td>280</td>\n",
       "      <td>565</td>\n",
       "      <td>259</td>\n",
       "      <td>3.8462</td>\n",
       "      <td>342200</td>\n",
       "      <td>NEAR BAY</td>\n",
       "    </tr>\n",
       "  </tbody>\n",
       "</table>\n",
       "</div>"
      ],
      "text/plain": [
       "   longitude  latitude  housing_median_age  total_rooms  total_bedrooms  \\\n",
       "0    -122.23     37.88                  41          880             129   \n",
       "1    -122.22     37.86                  21         7099            1106   \n",
       "2    -122.24     37.85                  52         1467             190   \n",
       "3    -122.25     37.85                  52         1274             235   \n",
       "4    -122.25     37.85                  52         1627             280   \n",
       "\n",
       "   population  households  median_income  median_house_value ocean_proximity  \n",
       "0         322         126         8.3252              452600        NEAR BAY  \n",
       "1        2401        1138         8.3014              358500        NEAR BAY  \n",
       "2         496         177         7.2574              352100        NEAR BAY  \n",
       "3         558         219         5.6431              341300        NEAR BAY  \n",
       "4         565         259         3.8462              342200        NEAR BAY  "
      ]
     },
     "execution_count": 23,
     "metadata": {},
     "output_type": "execute_result"
    }
   ],
   "source": [
    "# import important stuff:\n",
    "import tensorflow as tf\n",
    "import pandas as pd\n",
    "\n",
    "from tensorflow import feature_column as fc\n",
    "from tensorflow.keras import layers\n",
    "\n",
    "# a library to plot the distribution of atts:\n",
    "import seaborn as sea\n",
    "from sklearn.model_selection import train_test_split\n",
    "\n",
    "import matplotlib.pyplot as plt\n",
    "\n",
    "import numpy as np\n",
    "# downloading the data\n",
    "# !gsutil cp gs://cloud-training/mlongcp/v3.0_MLonGC/toy_data/housing_pre-proc_toy.csv /data\n",
    "# This dataset (provided by google) already has been cleaned and wrangled.\n",
    "\n",
    "\n",
    "df = pd.read_csv(\"data/housing_pre-proc_toy.csv\")\n",
    "df.head()"
   ]
  },
  {
   "cell_type": "markdown",
   "metadata": {},
   "source": [
    "It's very important to explore the data, like get the distribution each column shows, creating relations between columns (later this will help when crossing some features), and identify which columns. It's time for some fancy plots."
   ]
  },
  {
   "cell_type": "code",
   "execution_count": 24,
   "metadata": {},
   "outputs": [
    {
     "data": {
      "text/html": [
       "<div>\n",
       "<style scoped>\n",
       "    .dataframe tbody tr th:only-of-type {\n",
       "        vertical-align: middle;\n",
       "    }\n",
       "\n",
       "    .dataframe tbody tr th {\n",
       "        vertical-align: top;\n",
       "    }\n",
       "\n",
       "    .dataframe thead th {\n",
       "        text-align: right;\n",
       "    }\n",
       "</style>\n",
       "<table border=\"1\" class=\"dataframe\">\n",
       "  <thead>\n",
       "    <tr style=\"text-align: right;\">\n",
       "      <th></th>\n",
       "      <th>longitude</th>\n",
       "      <th>latitude</th>\n",
       "      <th>housing_median_age</th>\n",
       "      <th>total_rooms</th>\n",
       "      <th>total_bedrooms</th>\n",
       "      <th>population</th>\n",
       "      <th>households</th>\n",
       "      <th>median_income</th>\n",
       "      <th>median_house_value</th>\n",
       "    </tr>\n",
       "  </thead>\n",
       "  <tbody>\n",
       "    <tr>\n",
       "      <th>count</th>\n",
       "      <td>2500.000000</td>\n",
       "      <td>2500.000000</td>\n",
       "      <td>2500.000000</td>\n",
       "      <td>2500.000000</td>\n",
       "      <td>2500.000000</td>\n",
       "      <td>2500.000000</td>\n",
       "      <td>2500.000000</td>\n",
       "      <td>2500.000000</td>\n",
       "      <td>2500.000000</td>\n",
       "    </tr>\n",
       "    <tr>\n",
       "      <th>mean</th>\n",
       "      <td>-121.501836</td>\n",
       "      <td>37.802288</td>\n",
       "      <td>30.088400</td>\n",
       "      <td>2522.734000</td>\n",
       "      <td>491.862400</td>\n",
       "      <td>1246.225200</td>\n",
       "      <td>458.122000</td>\n",
       "      <td>3.694312</td>\n",
       "      <td>170288.731200</td>\n",
       "    </tr>\n",
       "    <tr>\n",
       "      <th>std</th>\n",
       "      <td>1.015963</td>\n",
       "      <td>0.803090</td>\n",
       "      <td>13.878416</td>\n",
       "      <td>1988.411988</td>\n",
       "      <td>362.499497</td>\n",
       "      <td>925.075463</td>\n",
       "      <td>341.744308</td>\n",
       "      <td>1.859422</td>\n",
       "      <td>97550.278529</td>\n",
       "    </tr>\n",
       "    <tr>\n",
       "      <th>min</th>\n",
       "      <td>-124.300000</td>\n",
       "      <td>36.130000</td>\n",
       "      <td>2.000000</td>\n",
       "      <td>12.000000</td>\n",
       "      <td>4.000000</td>\n",
       "      <td>18.000000</td>\n",
       "      <td>2.000000</td>\n",
       "      <td>0.499900</td>\n",
       "      <td>22500.000000</td>\n",
       "    </tr>\n",
       "    <tr>\n",
       "      <th>25%</th>\n",
       "      <td>-122.200000</td>\n",
       "      <td>37.600000</td>\n",
       "      <td>18.000000</td>\n",
       "      <td>1420.750000</td>\n",
       "      <td>282.000000</td>\n",
       "      <td>718.000000</td>\n",
       "      <td>263.000000</td>\n",
       "      <td>2.357875</td>\n",
       "      <td>92950.000000</td>\n",
       "    </tr>\n",
       "    <tr>\n",
       "      <th>50%</th>\n",
       "      <td>-122.030000</td>\n",
       "      <td>37.800000</td>\n",
       "      <td>30.000000</td>\n",
       "      <td>2052.000000</td>\n",
       "      <td>402.000000</td>\n",
       "      <td>1030.500000</td>\n",
       "      <td>374.500000</td>\n",
       "      <td>3.262200</td>\n",
       "      <td>150800.000000</td>\n",
       "    </tr>\n",
       "    <tr>\n",
       "      <th>75%</th>\n",
       "      <td>-120.697500</td>\n",
       "      <td>37.960000</td>\n",
       "      <td>41.000000</td>\n",
       "      <td>3007.250000</td>\n",
       "      <td>581.250000</td>\n",
       "      <td>1488.250000</td>\n",
       "      <td>538.000000</td>\n",
       "      <td>4.662975</td>\n",
       "      <td>219650.000000</td>\n",
       "    </tr>\n",
       "    <tr>\n",
       "      <th>max</th>\n",
       "      <td>-118.910000</td>\n",
       "      <td>41.950000</td>\n",
       "      <td>52.000000</td>\n",
       "      <td>28258.000000</td>\n",
       "      <td>3864.000000</td>\n",
       "      <td>12203.000000</td>\n",
       "      <td>3701.000000</td>\n",
       "      <td>15.000100</td>\n",
       "      <td>500001.000000</td>\n",
       "    </tr>\n",
       "  </tbody>\n",
       "</table>\n",
       "</div>"
      ],
      "text/plain": [
       "         longitude     latitude  housing_median_age   total_rooms  \\\n",
       "count  2500.000000  2500.000000         2500.000000   2500.000000   \n",
       "mean   -121.501836    37.802288           30.088400   2522.734000   \n",
       "std       1.015963     0.803090           13.878416   1988.411988   \n",
       "min    -124.300000    36.130000            2.000000     12.000000   \n",
       "25%    -122.200000    37.600000           18.000000   1420.750000   \n",
       "50%    -122.030000    37.800000           30.000000   2052.000000   \n",
       "75%    -120.697500    37.960000           41.000000   3007.250000   \n",
       "max    -118.910000    41.950000           52.000000  28258.000000   \n",
       "\n",
       "       total_bedrooms    population   households  median_income  \\\n",
       "count     2500.000000   2500.000000  2500.000000    2500.000000   \n",
       "mean       491.862400   1246.225200   458.122000       3.694312   \n",
       "std        362.499497    925.075463   341.744308       1.859422   \n",
       "min          4.000000     18.000000     2.000000       0.499900   \n",
       "25%        282.000000    718.000000   263.000000       2.357875   \n",
       "50%        402.000000   1030.500000   374.500000       3.262200   \n",
       "75%        581.250000   1488.250000   538.000000       4.662975   \n",
       "max       3864.000000  12203.000000  3701.000000      15.000100   \n",
       "\n",
       "       median_house_value  \n",
       "count         2500.000000  \n",
       "mean        170288.731200  \n",
       "std          97550.278529  \n",
       "min          22500.000000  \n",
       "25%          92950.000000  \n",
       "50%         150800.000000  \n",
       "75%         219650.000000  \n",
       "max         500001.000000  "
      ]
     },
     "execution_count": 24,
     "metadata": {},
     "output_type": "execute_result"
    }
   ],
   "source": [
    "# This method gives general info about each column:\n",
    "df.describe()\n",
    "\n",
    "# Some cols have higher std (standar deviation). This gives a basic idea of how the data is distributed, and (in certain manner) if its statisticly suficcient.\n"
   ]
  },
  {
   "cell_type": "code",
   "execution_count": 25,
   "metadata": {},
   "outputs": [],
   "source": [
    "# Set the theme:\n",
    "sea.set_theme(palette=\"flare\")"
   ]
  },
  {
   "cell_type": "markdown",
   "metadata": {},
   "source": [
    "First lets see the distribution of the data from the **housing_median_age** column:"
   ]
  },
  {
   "cell_type": "code",
   "execution_count": 26,
   "metadata": {},
   "outputs": [
    {
     "data": {
      "text/plain": [
       "<seaborn.axisgrid.FacetGrid at 0x1b9701c9c70>"
      ]
     },
     "execution_count": 26,
     "metadata": {},
     "output_type": "execute_result"
    },
    {
     "data": {
      "image/png": "[encoded data removed]",
      "text/plain": [
       "<Figure size 360x360 with 1 Axes>"
      ]
     },
     "metadata": {},
     "output_type": "display_data"
    }
   ],
   "source": [
    "sea.displot(data = df, x = 'housing_median_age', kde = True)"
   ]
  },
  {
   "cell_type": "markdown",
   "metadata": {},
   "source": [
    "It looks like a normal distribution with noticeable noise. There are buckets with more data than others. And more data on the last bucket in comparisson with the buckets close to the mean. This factors can cause overfitting, the model having bias over the ages that have more data in contrast with the less populated. \n",
    "Overall, we could say that (in most cases) a new house can be sold with a higher price than older houses. \n",
    "\n",
    "Next, some distributions with huge outliers:"
   ]
  },
  {
   "cell_type": "code",
   "execution_count": 27,
   "metadata": {},
   "outputs": [
    {
     "data": {
      "text/plain": [
       "<seaborn.axisgrid.FacetGrid at 0x1b9701a7970>"
      ]
     },
     "execution_count": 27,
     "metadata": {},
     "output_type": "execute_result"
    },
    {
     "data": {
      "image/png": "[encoded data removed]",
      "text/plain": [
       "<Figure size 360x360 with 1 Axes>"
      ]
     },
     "metadata": {},
     "output_type": "display_data"
    },
    {
     "data": {
      "image/png": "[encoded data removed]",
      "text/plain": [
       "<Figure size 360x360 with 1 Axes>"
      ]
     },
     "metadata": {},
     "output_type": "display_data"
    },
    {
     "data": {
      "image/png": "[encoded data removed]",
      "text/plain": [
       "<Figure size 360x360 with 1 Axes>"
      ]
     },
     "metadata": {},
     "output_type": "display_data"
    }
   ],
   "source": [
    "sea.displot(data = df, x = 'total_rooms', kde = True)\n",
    "sea.displot(data = df, x = 'population', kde = True)\n",
    "sea.displot(data = df, x = 'median_income', kde = True)"
   ]
  },
  {
   "cell_type": "markdown",
   "metadata": {},
   "source": [
    "As noted by the quantiles in the **describe(  )** output, we can se that the max vaules of this columns are very high. Thus, the model, when computing the loss derivate, is very likely to overfit the data. Some kind of regularization should be implemented for training.\n",
    "\n",
    "Now, the pandas' dataframe has to be converted to a tf.dataset to be used in training:"
   ]
  },
  {
   "cell_type": "code",
   "execution_count": 28,
   "metadata": {},
   "outputs": [],
   "source": [
    "col_names = list(df.columns)\n",
    "label_name = 'median_house_value'\n",
    "\n",
    "# The numeric columns:\n",
    "col_numerics = [\n",
    "    'longitude', 'latitude', 'housing_median_age', \n",
    "    'total_rooms', 'total_bedrooms', 'population', \n",
    "    'households', 'median_income']\n",
    "\n",
    "# There's only 1 categorical column:\n",
    "col_string = 'ocean_proximity'\n",
    "\n",
    "# Batch_size (to be used in the make_csv_dataset from tensorflow])\n",
    "batch_size = 32"
   ]
  },
  {
   "cell_type": "markdown",
   "metadata": {},
   "source": [
    "Now its time to create a tensorflow dataset (tf.data.Dataset) to be used in the training process. In this ocassion, the method used will be applying a function on every row (using the map function) to split the columns, thereby resulting in a pair of \"inputs, label\":"
   ]
  },
  {
   "cell_type": "code",
   "execution_count": 29,
   "metadata": {},
   "outputs": [],
   "source": [
    "# This functions takes a row of the dataset (as a list) and split it into a (inputs, label) pair\n",
    "def split_rows(row):\n",
    "    label = row.pop(label_name)\n",
    "    return row, label\n",
    "\n",
    "# This function takes the name (or pattern) of the csv file were the data is.\n",
    "# There are other methods to load a tensorflow dataset (like converting lists to tensors with tf.data.Dataset.from_tensor_slices())\n",
    "# but with bigger datasets, its more convenient to use .make_csv_dataset() method because it can batch the dataset from the file and \n",
    "# prefetch batchs.\n",
    "\n",
    "def trans_dataset(pattern, mode = 'eval', batch_size = 1):\n",
    "    dataset = tf.data.experimental.make_csv_dataset(pattern, col_names)\n",
    "    # tf.data.Dataset.from_tensor_slices(df[col_numerics]) z-- another way\n",
    "    dataset = dataset.map(split_rows)           # 'map' method applies the function to every row, is like 'apply'\n",
    "\n",
    "    if mode == 'train':\n",
    "        dataset.shuffle(1000).repeat()\n",
    "\n",
    "    return dataset\n",
    "\n",
    "def df_to_dataset(dataframe, shuffle=True, batch_size=1):\n",
    "    dataframe = dataframe.copy()\n",
    "    labels = dataframe.pop('median_house_value')\n",
    "    ds = tf.data.Dataset.from_tensor_slices((dict(dataframe), labels))\n",
    "    if shuffle:\n",
    "        ds = ds.shuffle(buffer_size=len(dataframe))\n",
    "    ds = ds.batch(batch_size)\n",
    "    return ds"
   ]
  },
  {
   "cell_type": "code",
   "execution_count": 30,
   "metadata": {},
   "outputs": [],
   "source": [
    "# Given the small size of the dataset (2500 rows) we can use the 'df' dataframe previously loaded:\n",
    "# and then use this datasets in the model training-validation-test. \n",
    "train_ds, test_ds = train_test_split(df, test_size = 0.2)\n",
    "train_ds, val_ds = train_test_split(train_ds, test_size = 0.2)\n",
    "\n",
    "resultados = test_ds['median_house_value']\n",
    "train_ds_ax = train_ds\n",
    "\n",
    "# However, when the datasets are large enough, we can use the function trans_dataset():\n",
    "train_ds.to_csv(\"data/train_ds.csv\", index = False)\n",
    "test_ds.to_csv(\"data/test_ds.csv\", index = False)\n",
    "val_ds.to_csv(\"data/val_ds.csv\", index = False)\n",
    "\n",
    "# train_ds = trans_dataset('data/train*', 'train')\n",
    "# val_ds = trans_dataset('data/val*')\n",
    "\n",
    "train_ds = df_to_dataset(train_ds)\n",
    "val_ds = df_to_dataset(val_ds)\n",
    "test_ds = df_to_dataset(test_ds)"
   ]
  },
  {
   "cell_type": "markdown",
   "metadata": {},
   "source": [
    "**Models**: \n",
    "Two NN models will be tested. The first one will be a baseline model, with no change on the inputs (they'll go entirely as features). The second one will integrate more features and it'll showcase corss, buckets and other types of features. "
   ]
  },
  {
   "cell_type": "markdown",
   "metadata": {},
   "source": [
    "_Here goes nothing (model 1 ,no-Features)_"
   ]
  },
  {
   "cell_type": "code",
   "execution_count": 31,
   "metadata": {},
   "outputs": [],
   "source": [
    "# ALl numeric inputs will be normalized, this is the only modification to the inputs in this baseline model.\n",
    "def get_scaler(data):\n",
    "    def mixmax(x):\n",
    "        mini = train_ds[data].min()\n",
    "        maxi = train_ds[data].max()\n",
    "        return (x - mini) / (maxi - mini)\n",
    "        return mixmax\n",
    "\n",
    "\n",
    "feature_cols = []\n",
    "\n",
    "for feature in col_numerics:\n",
    "    scaler = get_scaler(feature)\n",
    "    feature_cols.append(fc.numeric_column(feature, normalizer_fn=scaler))"
   ]
  },
  {
   "cell_type": "code",
   "execution_count": 32,
   "metadata": {},
   "outputs": [
    {
     "name": "stdout",
     "output_type": "stream",
     "text": [
      "Input dim: 8\n",
      "dict_values([<KerasTensor: shape=(None,) dtype=float32 (created by layer 'longitude')>, <KerasTensor: shape=(None,) dtype=float32 (created by layer 'latitude')>, <KerasTensor: shape=(None,) dtype=float32 (created by layer 'housing_median_age')>, <KerasTensor: shape=(None,) dtype=float32 (created by layer 'total_rooms')>, <KerasTensor: shape=(None,) dtype=float32 (created by layer 'total_bedrooms')>, <KerasTensor: shape=(None,) dtype=float32 (created by layer 'population')>, <KerasTensor: shape=(None,) dtype=float32 (created by layer 'households')>, <KerasTensor: shape=(None,) dtype=float32 (created by layer 'median_income')>])\n",
      "Epoch 1/5\n"
     ]
    },
    {
     "name": "stderr",
     "output_type": "stream",
     "text": [
      "C:\\Users\\santiago.madariaga\\Anaconda3\\lib\\site-packages\\keras\\engine\\functional.py:566: UserWarning: Input dict contained keys ['ocean_proximity'] which did not match any model input. They will be ignored by the model.\n",
      "  inputs = self._flatten_to_reference_inputs(inputs)\n"
     ]
    },
    {
     "name": "stdout",
     "output_type": "stream",
     "text": [
      "1600/1600 [==============================] - 3s 1ms/step - loss: 19112978432.0000 - mse: 19112978432.0000 - val_loss: 16303983616.0000 - val_mse: 16303983616.0000\n",
      "Epoch 2/5\n",
      "1600/1600 [==============================] - 2s 1ms/step - loss: 14217735168.0000 - mse: 14217735168.0000 - val_loss: 15291985920.0000 - val_mse: 15291985920.0000\n",
      "Epoch 3/5\n",
      "1600/1600 [==============================] - 2s 1ms/step - loss: 13452017664.0000 - mse: 13452017664.0000 - val_loss: 14318832640.0000 - val_mse: 14318832640.0000\n",
      "Epoch 4/5\n",
      "1600/1600 [==============================] - 2s 1ms/step - loss: 12427468800.0000 - mse: 12427468800.0000 - val_loss: 13211042816.0000 - val_mse: 13211042816.0000\n",
      "Epoch 5/5\n",
      "1600/1600 [==============================] - 2s 1ms/step - loss: 11280082944.0000 - mse: 11280082944.0000 - val_loss: 11485357056.0000 - val_mse: 11485357056.0000\n"
     ]
    }
   ],
   "source": [
    "# Dense tensor as input\n",
    "\n",
    "inputs = {\n",
    "    colname: layers.Input(name = colname, shape = (), dtype = 'float32')\n",
    "    for colname in col_numerics\n",
    "}\n",
    "\n",
    "feature_cols = {\n",
    "    colname: fc.numeric_column(colname, normalizer_fn=get_scaler(colname))\n",
    "    for colname in col_numerics\n",
    "}\n",
    "\n",
    "nn = len(feature_cols)\n",
    "print(\"Input dim: {}\".format(str(nn)))\n",
    "\n",
    "print(inputs.values())\n",
    "dnn_inputs = layers.DenseFeatures(feature_cols.values())(inputs)\n",
    "h1 = layers.Dense(32, activation = 'relu', name = 'h1')(dnn_inputs)\n",
    "h2 = layers.Dense(16, activation = 'relu', name = 'h2')(h1)\n",
    "output = layers.Dense(1, activation = 'linear', name = 'median_house_value')(h2)\n",
    "\n",
    "\n",
    "base_model = tf.keras.models.Model(inputs, output)\n",
    "\n",
    "base_model.compile(optimizer = 'adam',\n",
    "                    loss = 'mse',\n",
    "                    metrics = ['mse'])\n",
    "\n",
    "## this model has no categorical features handling, so only the numeric\n",
    "# features are being used\n",
    "\n",
    "b_results = base_model.fit(train_ds, validation_data = val_ds, epochs = 5)"
   ]
  },
  {
   "cell_type": "code",
   "execution_count": 33,
   "metadata": {},
   "outputs": [
    {
     "name": "stdout",
     "output_type": "stream",
     "text": [
      "You must install pydot (`pip install pydot`) and install graphviz (see instructions at https://graphviz.gitlab.io/download/) for plot_model/model_to_dot to work.\n"
     ]
    }
   ],
   "source": [
    "# show the model\n",
    "tf.keras.utils.plot_model(base_model, 'base_model.png', show_shapes=False, rankdir='LR')"
   ]
  },
  {
   "cell_type": "markdown",
   "metadata": {},
   "source": [
    "#### Now the model with more features:  \n",
    "First define the vanilla numeric and string columns"
   ]
  },
  {
   "cell_type": "code",
   "execution_count": 34,
   "metadata": {},
   "outputs": [],
   "source": [
    "def roomsxper(params):\n",
    "    room, pop = params\n",
    "    return room / pop"
   ]
  },
  {
   "cell_type": "code",
   "execution_count": 35,
   "metadata": {},
   "outputs": [
    {
     "name": "stdout",
     "output_type": "stream",
     "text": [
      "dict_values([<KerasTensor: shape=(None,) dtype=float32 (created by layer 'longitude')>, <KerasTensor: shape=(None,) dtype=float32 (created by layer 'latitude')>, <KerasTensor: shape=(None,) dtype=float32 (created by layer 'housing_median_age')>, <KerasTensor: shape=(None,) dtype=float32 (created by layer 'total_rooms')>, <KerasTensor: shape=(None,) dtype=float32 (created by layer 'total_bedrooms')>, <KerasTensor: shape=(None,) dtype=float32 (created by layer 'population')>, <KerasTensor: shape=(None,) dtype=float32 (created by layer 'households')>, <KerasTensor: shape=(None,) dtype=float32 (created by layer 'median_income')>, <KerasTensor: shape=(None,) dtype=string (created by layer 'ocean_proximity')>])\n",
      "You must install pydot (`pip install pydot`) and install graphviz (see instructions at https://graphviz.gitlab.io/download/) for plot_model/model_to_dot to work.\n"
     ]
    }
   ],
   "source": [
    "col_numerics_2 = col_numerics  # A really good input pipeline\n",
    "\n",
    "col_string_2 = [\n",
    "    'ocean_proximity'\n",
    "]\n",
    "\n",
    "# The feature columns (before feature eng.):\n",
    "inputs = {\n",
    "    col_name: layers.Input(name = col_name, shape = (), dtype= 'float32')\n",
    "    for col_name in col_numerics_2\n",
    "}\n",
    "\n",
    "inputs.update({\n",
    "    col_name: layers.Input(name = col_name, shape = (), dtype= 'string')\n",
    "    for col_name in col_string_2\n",
    "})\n",
    "\n",
    "transformed = inputs.copy()\n",
    "\n",
    "# normalizing numeric features:\n",
    "for perro in col_numerics_2:\n",
    "    layer = layers.Normalization(axis = None)\n",
    "    layer.adapt(train_ds_ax[perro])\n",
    "    transformed[perro] = layer(inputs[perro])\n",
    "\n",
    "feature_cols = {\n",
    "    col_name: fc.numeric_column(col_name)\n",
    "    for col_name in col_numerics_2\n",
    "}\n",
    "\n",
    "# now rooms x person (an aux function is needed):\n",
    "transformed['roomsxper'] = layers.Lambda(\n",
    "    roomsxper,\n",
    "    name = 'roomsxper')([\n",
    "        inputs['total_rooms'],\n",
    "        inputs['population']]\n",
    "    )\n",
    "\n",
    "# feature_cols['roomsxper'] = fc.numeric_column('roomsxper')\n",
    "\n",
    "# Second, given the distribution of the \"population\" column, \n",
    "# a bucketized feature could be useful\n",
    "\n",
    "# locatio\n",
    "feature_cols['location'] = fc.embedding_column(fc.crossed_column(['latitude', 'longitude'], 1000), 1000) \n",
    "\n",
    "# One-hot OCEAN PROXIMITY:\n",
    "vocab = df[col_string].unique()\n",
    "\n",
    "one_hot_OP = fc.categorical_column_with_vocabulary_list(col_string, vocab)\n",
    "feature_cols['OceaProx'] = fc.indicator_column(one_hot_OP)\n",
    "\n",
    "# now the odel:\n",
    "\n",
    "print(inputs.values())\n",
    "dnn_inputs = layers.DenseFeatures(feature_cols.values())(transformed)\n",
    "h1 = layers.Dense(30, activation = 'relu', name = 'h1')(dnn_inputs)\n",
    "h2 = layers.Dense(16, activation = 'relu', name = 'h2')(h1)\n",
    "output = layers.Dense(1, activation = 'linear', name = 'median_house_value')(h2)\n",
    "\n",
    "feat_model = tf.keras.models.Model(inputs, output)\n",
    "\n",
    "feat_model.compile(optimizer = 'adam',\n",
    "                    loss = 'mse',\n",
    "                    metrics = ['mse'])\n",
    "\n",
    "                    \n",
    "# now te plot:\n",
    "tf.keras.utils.plot_model(feat_model, 'featured_model.png', show_shapes=False, rankdir='LR')"
   ]
  },
  {
   "cell_type": "markdown",
   "metadata": {},
   "source": [
    "In this case, the new features are:\n",
    "+ Location (crossing latitude and longitude)\n",
    "+ Population discretized (bucketized)\n",
    "+ Rooms per person (number of rooms / population)\n",
    "+ One-hot encoding Ocean proximity\n",
    "\n",
    "Now, the training:"
   ]
  },
  {
   "cell_type": "code",
   "execution_count": 36,
   "metadata": {},
   "outputs": [
    {
     "name": "stdout",
     "output_type": "stream",
     "text": [
      "Epoch 1/10\n",
      "1600/1600 [==============================] - 14s 8ms/step - loss: 16762449920.0000 - mse: 16762449920.0000 - val_loss: 6869982208.0000 - val_mse: 6869982208.0000\n",
      "Epoch 2/10\n",
      "1600/1600 [==============================] - 13s 8ms/step - loss: 6554468864.0000 - mse: 6554468864.0000 - val_loss: 6696019456.0000 - val_mse: 6696019456.0000\n",
      "Epoch 3/10\n",
      "1600/1600 [==============================] - 13s 8ms/step - loss: 6347299840.0000 - mse: 6347299840.0000 - val_loss: 6604950016.0000 - val_mse: 6604950016.0000\n",
      "Epoch 4/10\n",
      "1600/1600 [==============================] - 13s 8ms/step - loss: 6297255936.0000 - mse: 6297255936.0000 - val_loss: 6554774528.0000 - val_mse: 6554774528.0000\n",
      "Epoch 5/10\n",
      "1600/1600 [==============================] - 13s 8ms/step - loss: 6235755008.0000 - mse: 6235755008.0000 - val_loss: 6592674304.0000 - val_mse: 6592674304.0000\n",
      "Epoch 6/10\n",
      "1600/1600 [==============================] - 13s 8ms/step - loss: 6239722496.0000 - mse: 6239722496.0000 - val_loss: 6474014208.0000 - val_mse: 6474014208.0000\n",
      "Epoch 7/10\n",
      "1600/1600 [==============================] - 12s 8ms/step - loss: 6199724032.0000 - mse: 6199724032.0000 - val_loss: 6459681792.0000 - val_mse: 6459681792.0000\n",
      "Epoch 8/10\n",
      "1600/1600 [==============================] - 13s 8ms/step - loss: 6170043392.0000 - mse: 6170043392.0000 - val_loss: 6539288064.0000 - val_mse: 6539288064.0000\n",
      "Epoch 9/10\n",
      "1600/1600 [==============================] - 13s 8ms/step - loss: 6157801472.0000 - mse: 6157801472.0000 - val_loss: 6385985024.0000 - val_mse: 6385985024.0000\n",
      "Epoch 10/10\n",
      "1600/1600 [==============================] - 12s 8ms/step - loss: 6145821184.0000 - mse: 6145821184.0000 - val_loss: 6376932864.0000 - val_mse: 6376932864.0000\n"
     ]
    }
   ],
   "source": [
    "f_results = feat_model.fit(train_ds, validation_data= val_ds, epochs = 4)"
   ]
  },
  {
   "cell_type": "markdown",
   "metadata": {},
   "source": [
    "Now, it's time to compare the performance of each model.\n",
    "First, the learning curves."
   ]
  },
  {
   "cell_type": "code",
   "execution_count": 37,
   "metadata": {},
   "outputs": [],
   "source": [
    "def show_curves(data1, data2):\n",
    "    nrows = 1\n",
    "    ncols = 2\n",
    "    fig = plt.figure(figsize=(10, 5))\n",
    "\n",
    "    ax = fig.add_subplot(nrows, ncols, 1)\n",
    "    plt.plot(data1.history['mse'])\n",
    "    plt.plot(data1.history['val_{}'.format('mse')])\n",
    "    plt.title('Base model {}'.format('mse'))\n",
    "    plt.ylabel('mse')\n",
    "    plt.xlabel('epoch')\n",
    "    plt.legend(['train', 'validation'], loc='upper left');  \n",
    "\n",
    "    ax = fig.add_subplot(nrows, ncols, 2)\n",
    "    plt.plot(data2.history['mse'])\n",
    "    plt.plot(data2.history['val_{}'.format('mse')])\n",
    "    plt.title('Featured model {}'.format('mse'))\n",
    "    plt.ylabel('mse')\n",
    "    plt.xlabel('epoch')\n",
    "    plt.legend(['train', 'validation'], loc='upper left');  "
   ]
  },
  {
   "cell_type": "code",
   "execution_count": 38,
   "metadata": {},
   "outputs": [
    {
     "data": {
      "image/png": "[encoded data removed]",
      "text/plain": [
       "<Figure size 720x360 with 2 Axes>"
      ]
     },
     "metadata": {},
     "output_type": "display_data"
    }
   ],
   "source": [
    "show_curves(b_results, f_results)"
   ]
  },
  {
   "cell_type": "code",
   "execution_count": 39,
   "metadata": {},
   "outputs": [
    {
     "name": "stdout",
     "output_type": "stream",
     "text": [
      "500/500 [==============================] - 0s 790us/step\n",
      "500/500 [==============================] - 1s 968us/step\n"
     ]
    }
   ],
   "source": [
    "#basel_model.predict_on_batch(test_ds)\n",
    "pred_base = base_model.predict(test_ds)\n",
    "pred_featured = feat_model.predict(test_ds)"
   ]
  },
  {
   "cell_type": "code",
   "execution_count": 40,
   "metadata": {},
   "outputs": [],
   "source": [
    "err_base = resultados.array - np.array(pred_base)\n",
    "r_base = err_base.sum()/len(err_base)"
   ]
  },
  {
   "cell_type": "code",
   "execution_count": 41,
   "metadata": {},
   "outputs": [],
   "source": [
    "err_featured = resultados.array - np.array(pred_featured)\n",
    "r_feat = err_featured.sum()/len(err_featured)\n"
   ]
  },
  {
   "cell_type": "code",
   "execution_count": 42,
   "metadata": {},
   "outputs": [
    {
     "data": {
      "text/plain": [
       "16998882.6015625"
      ]
     },
     "execution_count": 42,
     "metadata": {},
     "output_type": "execute_result"
    }
   ],
   "source": [
    "r_base - r_feat"
   ]
  }
 ],
 "metadata": {
  "interpreter": {
   "hash": "ad2bdc8ecc057115af97d19610ffacc2b4e99fae6737bb82f5d7fb13d2f2c186"
  },
  "kernelspec": {
   "display_name": "Python 3.9.7 ('base')",
   "language": "python",
   "name": "python3"
  },
  "language_info": {
   "codemirror_mode": {
    "name": "ipython",
    "version": 3
   },
   "file_extension": ".py",
   "mimetype": "text/x-python",
   "name": "python",
   "nbconvert_exporter": "python",
   "pygments_lexer": "ipython3",
   "version": "3.9.12"
  },
  "orig_nbformat": 4
 },
 "nbformat": 4,
 "nbformat_minor": 2
}
