{
 "cells": [
  {
   "cell_type": "code",
   "execution_count": 18,
   "metadata": {},
   "outputs": [
    {
     "name": "stdout",
     "output_type": "stream",
     "text": [
      "0.45454545454545453\n",
      "P\n"
     ]
    }
   ],
   "source": [
    "# The example function below keeps track of the opponent's history and plays whatever the opponent played two plays ago. It is not a very good player so you will need to change the code to pass the challenge.\n",
    "\n",
    "vocab = ['R', 'P', 'S']\n",
    "counter = {'R': 'P', 'P': 'S', 'S': 'R'}\n",
    "\n",
    "def fin_pattern(lista):\n",
    "    patron = lista[-5:]\n",
    "    lista_r = lista[:10]\n",
    "    rpta = lista_r.find(patron)\n",
    "    if rpta > -1: # done\n",
    "        siguiente = lista[len(patron) + rpta]\n",
    "        return counter[siguiente]\n",
    "    return \"\"\n",
    "\n",
    "\n",
    "\n",
    "def player(prev_play, opponent_history=[]):\n",
    "    guess = \"S\"\n",
    "    ayuda = \"\"\n",
    "    \n",
    "    opponent_history.append(prev_play)\n",
    "    concat = \"\".join(tengo for tengo in opponent_history)\n",
    "    if len(opponent_history) > 14:\n",
    "        ayuda = fin_pattern(concat)\n",
    "        opponent_history.pop(0)\n",
    "    else:\n",
    "        if len(opponent_history) > 2:\n",
    "            return counter[opponent_history[-2]]\n",
    "        \n",
    "    if ayuda != \"\":\n",
    "        return ayuda\n",
    "    if prev_play != '':\n",
    "        guess = counter[prev_play]\n",
    "        \n",
    "    n = len(opponent_history)\n",
    "    dicc = {name: opponent_history.count(name) for name in vocab}\n",
    "    # how likely is to repeat the same prev_play? \n",
    "    # dicc.pop(prev_play)\n",
    "        \n",
    "    for name in vocab:\n",
    "        reps = dicc[name]\n",
    "        ratio = reps/ n\n",
    "        if ratio > 0.7:\n",
    "            return counter[name]\n",
    "    return guess{\n",
    "        \n",
    "    }"
   ]
  },
  {
   "cell_type": "code",
   "execution_count": 22,
   "metadata": {},
   "outputs": [
    {
     "name": "stdout",
     "output_type": "stream",
     "text": [
      "0\n"
     ]
    }
   ],
   "source": [
    "# The example function below keeps track of the opponent's history and plays whatever the opponent played two plays ago. It is not a very good player so you will need to change the code to pass the challenge.\n",
    "\n",
    "vocab = ['R', 'P', 'S']\n",
    "counter = {'R': 'P', 'P': 'S', 'S': 'R'}\n",
    "\n",
    "def player(prev_play, opponent_history=[]):\n",
    "    guess = \"S\"\n",
    "    opponent_history.append(prev_play)\n",
    "\n",
    "    \n",
    "    concat = \"\".join(tengo for tengo in opponent_history[-7:-1])\n",
    "    if concat.find(\"RPS\") > -1:\n",
    "        return opponent_history[-2]\n",
    "\n",
    "    if concat.find(\"RSP\") > -1:\n",
    "        return opponent_history[-1]\n",
    "    \n",
    "    if len(opponent_history) > 20:\n",
    "        opponent_history.pop(0)\n",
    "        \n",
    "    if prev_play != '':\n",
    "        guess = counter[prev_play]\n",
    "        \n",
    "    n = len(opponent_history)\n",
    "    dicc = {name: opponent_history.count(name) for name in vocab}\n",
    "    # how likely is to repeat the same prev_play? \n",
    "    # dicc.pop(prev_play)\n",
    "\n",
    "\n",
    "        \n",
    "    for name in vocab:\n",
    "        reps = dicc[name]\n",
    "        ratio = reps/ n\n",
    "        if ratio > 0.7:\n",
    "            return counter[name]\n",
    "    return guess"
   ]
  },
  {
   "cell_type": "code",
   "execution_count": 35,
   "metadata": {},
   "outputs": [
    {
     "name": "stdout",
     "output_type": "stream",
     "text": [
      "6\n",
      "R\n"
     ]
    }
   ],
   "source": [
    "cols = ['R', 'R', 'R', 'R', 'R', 'R', \n",
    "        'S', 'S', 'S', 'S', 'S', 'S', 'S', \n",
    "        'P', 'P', 'P', 'P', 'P', 'P', 'P', \n",
    "        'R', 'R', 'R', 'R', 'R', 'R', \n",
    "        'S', 'S', 'S', 'S', 'S', 'S', 'S', \n",
    "        'P', 'P', 'P', 'P', 'P', 'P', 'P', 'R', 'R', 'R', 'R', 'R', 'R', 'S', 'S', 'S', 'S', 'S', 'S', 'S', 'P', 'P', 'P', 'P', 'P', 'P', 'P', 'R', 'R', 'R', 'R', 'R', 'R', 'S', 'S', 'S', 'S', 'S', 'S', 'S', 'P', 'P', 'P', 'P', 'P', 'P', 'P', 'R', 'R', 'R', 'R', 'R', 'R', 'S', 'S', 'S', 'S', 'S', 'S', 'S', 'P', 'P', 'P', 'P', 'P', 'P', 'P', 'R', 'R', 'R', 'R', 'R', 'R', 'S', 'S', 'S', 'S', 'S', 'S', 'S', 'P', 'P', 'P', 'P', 'P', 'P', 'P', 'R', 'R', 'R', 'R', 'R', 'R', 'S', 'S', 'S', 'S', 'S', 'S', 'S', 'P', 'P', 'P', 'P', 'P', 'P', 'P', 'R', 'R', 'R', 'R', 'R', 'R', 'S', 'S', 'S', 'S', 'S', 'S', 'S', 'P', 'P', 'P', 'P', 'P', 'P', 'P', 'R', 'R', 'R', 'R', 'R', 'R', 'S', 'S', 'S', 'S', 'S', 'S', 'S', 'P', 'P', 'P', 'P', 'P', 'P', 'P', 'R', 'R', 'R', 'R', 'R', 'R'] \n",
    "\n",
    "\n",
    "concat = \"\".join(tengo for tengo in cols)\n",
    "patt = \"SSSSSSSPPPPPPP\"\n",
    "index = concat.find(patt)\n",
    "print(index)\n",
    "print(concat[len(patt) + index])"
   ]
  },
  {
   "cell_type": "code",
   "execution_count": 50,
   "metadata": {},
   "outputs": [
    {
     "name": "stdout",
     "output_type": "stream",
     "text": [
      "doh 5\n",
      "rpta 3\n"
     ]
    },
    {
     "data": {
      "text/plain": [
       "'S'"
      ]
     },
     "execution_count": 50,
     "metadata": {},
     "output_type": "execute_result"
    }
   ],
   "source": [
    "def fin_pattern(lista):\n",
    "    patron = lista[-5:]\n",
    "    lista_r = lista[:10]\n",
    "    rpta = lista_r.find(patron)\n",
    "    if rpta > -1: # done\n",
    "        print(\"doh\", len(patron))\n",
    "        siguiente = lista_r[len(patron) + rpta]\n",
    "        print(\"rpta\", rpta)\n",
    "        return counter[siguiente]\n",
    "    \n",
    "    return \"\"\n",
    "\n",
    "mrd = \"RRSSPPRRSSP   PR RSSPPRR\"\n",
    "\n",
    "fin_pattern(mrd)"
   ]
  },
  {
   "cell_type": "code",
   "execution_count": null,
   "metadata": {},
   "outputs": [],
   "source": []
  }
 ],
 "metadata": {
  "interpreter": {
   "hash": "b3ba2566441a7c06988d0923437866b63cedc61552a5af99d1f4fb67d367b25f"
  },
  "kernelspec": {
   "display_name": "Python 3.9.7 ('base')",
   "language": "python",
   "name": "python3"
  },
  "language_info": {
   "codemirror_mode": {
    "name": "ipython",
    "version": 3
   },
   "file_extension": ".py",
   "mimetype": "text/x-python",
   "name": "python",
   "nbconvert_exporter": "python",
   "pygments_lexer": "ipython3",
   "version": "3.9.7"
  },
  "orig_nbformat": 4
 },
 "nbformat": 4,
 "nbformat_minor": 2
}
