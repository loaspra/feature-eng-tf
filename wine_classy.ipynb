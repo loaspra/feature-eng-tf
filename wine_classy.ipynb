{
 "cells": [
  {
   "cell_type": "markdown",
   "metadata": {},
   "source": [
    "## The BIG Wine Dataset\n",
    " ** explain what I'm gonna do in this notebook ** \n",
    "The dataset consists of the following columns:"
   ]
  },
  {
   "cell_type": "markdown",
   "metadata": {},
   "source": [
    "Attribute Information\n",
    "+ winery: Winery name\n",
    "+ wine: Name of the wine\n",
    "+ year: Year in which the grapes were harvested\n",
    "+ rating: Average rating given to the wine by the users [from 1-5]\n",
    "+ num_reviews: Number of users that reviewed the wine\n",
    "+ country: Country of origin [Spain]\n",
    "+ region: Region of the wine\n",
    "+ price: Price in euros [€]\n",
    "+ type: Wine variety\n",
    "+ body: Body score, defined as the richness and weight of the wine in your mouth [from 1-5]\n",
    "+ acidity: Acidity score, defined as wine's “pucker” or tartness; it's what makes a wine refreshing and your tongue + salivate and want another sip [from 1-5]"
   ]
  },
  {
   "cell_type": "code",
   "execution_count": 1,
   "metadata": {},
   "outputs": [
    {
     "name": "stdout",
     "output_type": "stream",
     "text": [
      "1.21.5\n"
     ]
    }
   ],
   "source": [
    "# seaborn to explore the data\n",
    "import seaborn as sea\n",
    "\n",
    "# as a relatively small dataset, the use of pandas is okay\n",
    "import pandas as pd\n",
    "\n",
    "import numpy as np\n",
    "\n",
    "import tensorflow as tf\n",
    "import matplotlib.pyplot as plt\n",
    "\n",
    "from tensorflow import feature_column as fc\n",
    "from tensorflow.keras import layers\n",
    "from sklearn.model_selection import train_test_split"
   ]
  },
  {
   "cell_type": "code",
   "execution_count": 2,
   "metadata": {},
   "outputs": [],
   "source": [
    "wine_ds = pd.read_csv(\"data/wines_SPA.csv\")"
   ]
  },
  {
   "cell_type": "code",
   "execution_count": 3,
   "metadata": {},
   "outputs": [
    {
     "name": "stdout",
     "output_type": "stream",
     "text": [
      "          winery           wine  year  rating  num_reviews country  \\\n",
      "0  Teso La Monja          Tinto  2013     4.9           58  Espana   \n",
      "1         Artadi  Vina El Pison  2018     4.9           31  Espana   \n",
      "2   Vega Sicilia          Unico  2009     4.8         1793  Espana   \n",
      "3   Vega Sicilia          Unico  1999     4.8         1705  Espana   \n",
      "4   Vega Sicilia          Unico  1996     4.8         1309  Espana   \n",
      "\n",
      "             region   price                  type  body  acidity  \n",
      "0              Toro  995.00              Toro Red   5.0      3.0  \n",
      "1    Vino de Espana  313.50           Tempranillo   4.0      2.0  \n",
      "2  Ribera del Duero  324.95  Ribera Del Duero Red   5.0      3.0  \n",
      "3  Ribera del Duero  692.96  Ribera Del Duero Red   5.0      3.0  \n",
      "4  Ribera del Duero  778.06  Ribera Del Duero Red   5.0      3.0  \n"
     ]
    }
   ],
   "source": [
    "print(wine_ds.head())\n",
    "wine_ds = wine_ds.dropna()\n",
    "# np.array(wine_ds['year']).astype('int')\n",
    "\n",
    "wine_ds = wine_ds[wine_ds['year'] != 'N.V.']\n",
    "wine_ds['year'] = wine_ds['year'].astype('int')\n"
   ]
  },
  {
   "cell_type": "code",
   "execution_count": 4,
   "metadata": {},
   "outputs": [
    {
     "data": {
      "text/html": [
       "<div>\n",
       "<style scoped>\n",
       "    .dataframe tbody tr th:only-of-type {\n",
       "        vertical-align: middle;\n",
       "    }\n",
       "\n",
       "    .dataframe tbody tr th {\n",
       "        vertical-align: top;\n",
       "    }\n",
       "\n",
       "    .dataframe thead th {\n",
       "        text-align: right;\n",
       "    }\n",
       "</style>\n",
       "<table border=\"1\" class=\"dataframe\">\n",
       "  <thead>\n",
       "    <tr style=\"text-align: right;\">\n",
       "      <th></th>\n",
       "      <th>winery</th>\n",
       "      <th>wine</th>\n",
       "      <th>year</th>\n",
       "      <th>rating</th>\n",
       "      <th>country</th>\n",
       "      <th>region</th>\n",
       "      <th>price</th>\n",
       "      <th>type</th>\n",
       "      <th>body</th>\n",
       "      <th>acidity</th>\n",
       "    </tr>\n",
       "    <tr>\n",
       "      <th>num_reviews</th>\n",
       "      <th></th>\n",
       "      <th></th>\n",
       "      <th></th>\n",
       "      <th></th>\n",
       "      <th></th>\n",
       "      <th></th>\n",
       "      <th></th>\n",
       "      <th></th>\n",
       "      <th></th>\n",
       "      <th></th>\n",
       "    </tr>\n",
       "  </thead>\n",
       "  <tbody>\n",
       "    <tr>\n",
       "      <th>25</th>\n",
       "      <td>17</td>\n",
       "      <td>17</td>\n",
       "      <td>17</td>\n",
       "      <td>17</td>\n",
       "      <td>17</td>\n",
       "      <td>17</td>\n",
       "      <td>17</td>\n",
       "      <td>17</td>\n",
       "      <td>17</td>\n",
       "      <td>17</td>\n",
       "    </tr>\n",
       "    <tr>\n",
       "      <th>26</th>\n",
       "      <td>15</td>\n",
       "      <td>15</td>\n",
       "      <td>15</td>\n",
       "      <td>15</td>\n",
       "      <td>15</td>\n",
       "      <td>15</td>\n",
       "      <td>15</td>\n",
       "      <td>15</td>\n",
       "      <td>15</td>\n",
       "      <td>15</td>\n",
       "    </tr>\n",
       "    <tr>\n",
       "      <th>27</th>\n",
       "      <td>20</td>\n",
       "      <td>20</td>\n",
       "      <td>20</td>\n",
       "      <td>20</td>\n",
       "      <td>20</td>\n",
       "      <td>20</td>\n",
       "      <td>20</td>\n",
       "      <td>20</td>\n",
       "      <td>20</td>\n",
       "      <td>20</td>\n",
       "    </tr>\n",
       "    <tr>\n",
       "      <th>28</th>\n",
       "      <td>25</td>\n",
       "      <td>25</td>\n",
       "      <td>25</td>\n",
       "      <td>25</td>\n",
       "      <td>25</td>\n",
       "      <td>25</td>\n",
       "      <td>25</td>\n",
       "      <td>25</td>\n",
       "      <td>25</td>\n",
       "      <td>25</td>\n",
       "    </tr>\n",
       "    <tr>\n",
       "      <th>29</th>\n",
       "      <td>17</td>\n",
       "      <td>17</td>\n",
       "      <td>17</td>\n",
       "      <td>17</td>\n",
       "      <td>17</td>\n",
       "      <td>17</td>\n",
       "      <td>17</td>\n",
       "      <td>17</td>\n",
       "      <td>17</td>\n",
       "      <td>17</td>\n",
       "    </tr>\n",
       "    <tr>\n",
       "      <th>...</th>\n",
       "      <td>...</td>\n",
       "      <td>...</td>\n",
       "      <td>...</td>\n",
       "      <td>...</td>\n",
       "      <td>...</td>\n",
       "      <td>...</td>\n",
       "      <td>...</td>\n",
       "      <td>...</td>\n",
       "      <td>...</td>\n",
       "      <td>...</td>\n",
       "    </tr>\n",
       "    <tr>\n",
       "      <th>8318</th>\n",
       "      <td>1</td>\n",
       "      <td>1</td>\n",
       "      <td>1</td>\n",
       "      <td>1</td>\n",
       "      <td>1</td>\n",
       "      <td>1</td>\n",
       "      <td>1</td>\n",
       "      <td>1</td>\n",
       "      <td>1</td>\n",
       "      <td>1</td>\n",
       "    </tr>\n",
       "    <tr>\n",
       "      <th>9092</th>\n",
       "      <td>1</td>\n",
       "      <td>1</td>\n",
       "      <td>1</td>\n",
       "      <td>1</td>\n",
       "      <td>1</td>\n",
       "      <td>1</td>\n",
       "      <td>1</td>\n",
       "      <td>1</td>\n",
       "      <td>1</td>\n",
       "      <td>1</td>\n",
       "    </tr>\n",
       "    <tr>\n",
       "      <th>9098</th>\n",
       "      <td>1</td>\n",
       "      <td>1</td>\n",
       "      <td>1</td>\n",
       "      <td>1</td>\n",
       "      <td>1</td>\n",
       "      <td>1</td>\n",
       "      <td>1</td>\n",
       "      <td>1</td>\n",
       "      <td>1</td>\n",
       "      <td>1</td>\n",
       "    </tr>\n",
       "    <tr>\n",
       "      <th>10273</th>\n",
       "      <td>1</td>\n",
       "      <td>1</td>\n",
       "      <td>1</td>\n",
       "      <td>1</td>\n",
       "      <td>1</td>\n",
       "      <td>1</td>\n",
       "      <td>1</td>\n",
       "      <td>1</td>\n",
       "      <td>1</td>\n",
       "      <td>1</td>\n",
       "    </tr>\n",
       "    <tr>\n",
       "      <th>16505</th>\n",
       "      <td>1</td>\n",
       "      <td>1</td>\n",
       "      <td>1</td>\n",
       "      <td>1</td>\n",
       "      <td>1</td>\n",
       "      <td>1</td>\n",
       "      <td>1</td>\n",
       "      <td>1</td>\n",
       "      <td>1</td>\n",
       "      <td>1</td>\n",
       "    </tr>\n",
       "  </tbody>\n",
       "</table>\n",
       "<p>730 rows × 10 columns</p>\n",
       "</div>"
      ],
      "text/plain": [
       "             winery  wine  year  rating  country  region  price  type  body  \\\n",
       "num_reviews                                                                   \n",
       "25               17    17    17      17       17      17     17    17    17   \n",
       "26               15    15    15      15       15      15     15    15    15   \n",
       "27               20    20    20      20       20      20     20    20    20   \n",
       "28               25    25    25      25       25      25     25    25    25   \n",
       "29               17    17    17      17       17      17     17    17    17   \n",
       "...             ...   ...   ...     ...      ...     ...    ...   ...   ...   \n",
       "8318              1     1     1       1        1       1      1     1     1   \n",
       "9092              1     1     1       1        1       1      1     1     1   \n",
       "9098              1     1     1       1        1       1      1     1     1   \n",
       "10273             1     1     1       1        1       1      1     1     1   \n",
       "16505             1     1     1       1        1       1      1     1     1   \n",
       "\n",
       "             acidity  \n",
       "num_reviews           \n",
       "25                17  \n",
       "26                15  \n",
       "27                20  \n",
       "28                25  \n",
       "29                17  \n",
       "...              ...  \n",
       "8318               1  \n",
       "9092               1  \n",
       "9098               1  \n",
       "10273              1  \n",
       "16505              1  \n",
       "\n",
       "[730 rows x 10 columns]"
      ]
     },
     "execution_count": 4,
     "metadata": {},
     "output_type": "execute_result"
    }
   ],
   "source": [
    "#The data is not very sparse. It sunks on different buckets. A bucketized feature could be useful for the \"year\" att\n",
    "# sea.displot(wine_ds, x = \"year\")\n",
    "\n",
    "# If the label we want to predict is \"rating\", a dropout layer (in training) could be usefull because of the huuge \n",
    "# difference between the quantity of the buckets:\n",
    "# sea.displot(wine_ds, x = \"rating\")\n",
    "\n",
    "# a lot of data is filled in certain buckets:\n",
    "# sea.displot(wine_ds, x = \"body\")\n",
    "# sea.displot(wine_ds, x = \"acidity\")\n",
    "\n",
    "# a utility function to plot the learning curves:\n",
    "def plot_curves(history, metrics):\n",
    "    nrows = 1\n",
    "    ncols = 2\n",
    "    fig = plt.figure(figsize=(10, 5))\n",
    "\n",
    "    for idx, key in enumerate(metrics):  \n",
    "        ax = fig.add_subplot(nrows, ncols, idx+1)\n",
    "        plt.plot(history.history[key])\n",
    "        plt.plot(history.history['val_{}'.format(key)])\n",
    "        plt.title('model {}'.format(key))\n",
    "        plt.ylabel(key)\n",
    "        plt.xlabel('epoch')\n",
    "        plt.legend(['train', 'validation'], loc='upper left');    \n",
    "\n",
    "# First normalize every numeric feature:\n",
    "def normalize_fn(col):\n",
    "    def min_max(x_row):\n",
    "        maxi = train_ds[col].max()\n",
    "        mini = train_ds[col].min()\n",
    "        return (x_row - mini)/(maxi - mini)\n",
    "        return (min_max)\n",
    "\n",
    "wine_ds.groupby(\"num_reviews\").count() "
   ]
  },
  {
   "cell_type": "code",
   "execution_count": 5,
   "metadata": {},
   "outputs": [
    {
     "data": {
      "text/plain": [
       "<seaborn.axisgrid.FacetGrid at 0x1cbfee8bcd0>"
      ]
     },
     "execution_count": 5,
     "metadata": {},
     "output_type": "execute_result"
    },
    {
     "data": {
      "image/png": "[encoded data removed]",
      "text/plain": [
       "<Figure size 360x360 with 1 Axes>"
      ]
     },
     "metadata": {
      "needs_background": "light"
     },
     "output_type": "display_data"
    }
   ],
   "source": [
    "# Country column has only 1 value: poping\n",
    "# wine_ds['country'].unique()\n",
    "# wine_ds.pop('country')\n",
    "wine_ds['type'].unique()\n",
    "sea.displot(data= wine_ds, x = 'acidity')"
   ]
  },
  {
   "cell_type": "markdown",
   "metadata": {},
   "source": [
    "Now it's time to create the features. All the features will be feeded into feature_columns array. We'll be testing several models:\n",
    "+ A baseline model\n",
    "+ A model that uses all the features\n",
    "+ A model that uses all the features but with a filtered dataset\n",
    "+ A model that uses certain features with a filtered dataset"
   ]
  },
  {
   "cell_type": "markdown",
   "metadata": {},
   "source": [
    "As seen in the plots, there's a lot of variance in the columns, some types of wine have almost none samples compared with others, the same goes for other features. Features with less data than usual can cause overfitting, because there's not enough variance on each type of value of each colum. Thereby, removing some of the categorical types and only leaving the ones that have a modest amount of samples, can help us avoid overfitting. "
   ]
  },
  {
   "cell_type": "markdown",
   "metadata": {},
   "source": [
    "For now, let's see how a model with all the columns (except contry, because it only has 1 value) performs:"
   ]
  },
  {
   "cell_type": "code",
   "execution_count": 6,
   "metadata": {},
   "outputs": [],
   "source": [
    "# 10 att:\n",
    "# numeric_cols = ['year', 'rating', 'num_reviews', 'body', 'acidity']\n",
    "numeric_cols = ['rating', 'body', 'acidity']\n",
    "# rating goes from 4.2 to 5\n",
    "# num_reviews sparse\n",
    "\n",
    "\n",
    "categorical_cols = ['winery', 'wine', 'region', 'type']\n",
    "\n",
    "label = 'price'\n"
   ]
  },
  {
   "cell_type": "code",
   "execution_count": 7,
   "metadata": {},
   "outputs": [],
   "source": [
    "feature_columns_base = []\n",
    "\n",
    "for i in numeric_cols:\n",
    "    tabla = normalize_fn(i)\n",
    "    feature_columns_base.append(fc.numeric_column(i, normalizer_fn= tabla))\n",
    "\n",
    "type_vocab = wine_ds['type'].unique()\n",
    "# for categorical cols:\n",
    "# for winery (a lot of categories): \n",
    "winery_cat = fc.categorical_column_with_hash_bucket('winery', 10000)\n",
    "feature_columns_base.append(fc.indicator_column(winery_cat))\n",
    "\n",
    "# bucketize years:\n",
    "# buckets = fc.bucketized_column('year', [])\n",
    "\n",
    "# # for type (a bit less categories than winery): \n",
    "# one_hot_type = fc.categorical_column_with_vocabulary_list('type', vocabulary_list= type_vocab)\n",
    "# feature_columns_base.append(fc.indicator_column(one_hot_type))\n",
    "\n",
    "# # for wine and region (a lot of categories):\n",
    "# wine_cat = fc.categorical_column_with_hash_bucket('wine', 10000)\n",
    "# feature_columns_base.append(fc.indicator_column(wine_cat)) \n",
    "# region_cat = fc.categorical_column_with_hash_bucket('region', 1000)\n",
    "# feature_columns_base.append(fc.indicator_column(region_cat))"
   ]
  },
  {
   "cell_type": "code",
   "execution_count": 52,
   "metadata": {},
   "outputs": [],
   "source": [
    "feature_layer = layers.DenseFeatures(feature_columns_base, dtype = 'float64')\n",
    "\n",
    "# now a function that converts a pandas dataframe to a tf dataset:\n",
    "def pandas_to_tensor(dataframe, _shuffle_ = False, batch_size = 10):\n",
    "    dataframe = dataframe.copy()\n",
    "    labels = dataframe.pop(label)\n",
    "    dataset = tf.data.Dataset.from_tensor_slices((dict(dataframe), labels))\n",
    "    if _shuffle_:\n",
    "        dataset = dataset.shuffle(len(dataset)*2)\n",
    "    \n",
    "    dataset = dataset.batch(batch_size)\n",
    "    return dataset"
   ]
  },
  {
   "cell_type": "code",
   "execution_count": 53,
   "metadata": {},
   "outputs": [],
   "source": [
    "model_base = tf.keras.models.Sequential([\n",
    "    feature_layer,\n",
    "    layers.Dense(12,input_dim = 10,  activation='relu'),\n",
    "    layers.Dense(20, activation='relu'),\n",
    "    layers.Dense(1, activation='linear', name = 'price')\n",
    "])\n",
    "\n",
    "\n",
    "\n",
    "\n",
    "\n",
    "wine_ds = wine_ds.dropna()\n",
    "train_ds, test_ds = train_test_split(wine_ds, test_size= 0.2)\n",
    "train_ds, val_ds = train_test_split(train_ds, test_size= 0.2)\n",
    "\n",
    "train_ds = pandas_to_tensor(train_ds, True, 1)\n",
    "val_ds = pandas_to_tensor(val_ds, batch_size= 20)\n",
    "\n",
    "test_ds = pandas_to_tensor(test_ds, batch_size=20)\n",
    "\n",
    "# Handle NAs better ||\n",
    "# NAS should be filled with syntetic data if the sample in question\n",
    "# has enough data from other attributes. Otherwise, the row should be dropped\n"
   ]
  },
  {
   "cell_type": "code",
   "execution_count": 54,
   "metadata": {},
   "outputs": [
    {
     "name": "stdout",
     "output_type": "stream",
     "text": [
      "<TakeDataset element_spec=({'winery': TensorSpec(shape=(None,), dtype=tf.string, name=None), 'wine': TensorSpec(shape=(None,), dtype=tf.string, name=None), 'year': TensorSpec(shape=(None,), dtype=tf.int32, name=None), 'rating': TensorSpec(shape=(None,), dtype=tf.float64, name=None), 'num_reviews': TensorSpec(shape=(None,), dtype=tf.int64, name=None), 'country': TensorSpec(shape=(None,), dtype=tf.string, name=None), 'region': TensorSpec(shape=(None,), dtype=tf.string, name=None), 'type': TensorSpec(shape=(None,), dtype=tf.string, name=None), 'body': TensorSpec(shape=(None,), dtype=tf.float64, name=None), 'acidity': TensorSpec(shape=(None,), dtype=tf.float64, name=None)}, TensorSpec(shape=(None,), dtype=tf.float64, name=None))>\n",
      "Epoch 1/10\n",
      "WARNING:tensorflow:Layers in a Sequential model should only have a single input tensor. Received: inputs={'winery': <tf.Tensor 'IteratorGetNext:8' shape=(None,) dtype=string>, 'wine': <tf.Tensor 'IteratorGetNext:7' shape=(None,) dtype=string>, 'year': <tf.Tensor 'IteratorGetNext:9' shape=(None,) dtype=int32>, 'rating': <tf.Tensor 'IteratorGetNext:4' shape=(None,) dtype=float64>, 'num_reviews': <tf.Tensor 'IteratorGetNext:3' shape=(None,) dtype=int64>, 'country': <tf.Tensor 'IteratorGetNext:2' shape=(None,) dtype=string>, 'region': <tf.Tensor 'IteratorGetNext:5' shape=(None,) dtype=string>, 'type': <tf.Tensor 'IteratorGetNext:6' shape=(None,) dtype=string>, 'body': <tf.Tensor 'IteratorGetNext:1' shape=(None,) dtype=float64>, 'acidity': <tf.Tensor 'IteratorGetNext:0' shape=(None,) dtype=float64>}. Consider rewriting this model with the Functional API.\n",
      "WARNING:tensorflow:Layers in a Sequential model should only have a single input tensor. Received: inputs={'winery': <tf.Tensor 'IteratorGetNext:8' shape=(None,) dtype=string>, 'wine': <tf.Tensor 'IteratorGetNext:7' shape=(None,) dtype=string>, 'year': <tf.Tensor 'IteratorGetNext:9' shape=(None,) dtype=int32>, 'rating': <tf.Tensor 'IteratorGetNext:4' shape=(None,) dtype=float64>, 'num_reviews': <tf.Tensor 'IteratorGetNext:3' shape=(None,) dtype=int64>, 'country': <tf.Tensor 'IteratorGetNext:2' shape=(None,) dtype=string>, 'region': <tf.Tensor 'IteratorGetNext:5' shape=(None,) dtype=string>, 'type': <tf.Tensor 'IteratorGetNext:6' shape=(None,) dtype=string>, 'body': <tf.Tensor 'IteratorGetNext:1' shape=(None,) dtype=float64>, 'acidity': <tf.Tensor 'IteratorGetNext:0' shape=(None,) dtype=float64>}. Consider rewriting this model with the Functional API.\n",
      "36/38 [===========================>..] - ETA: 0s - loss: 36534.2266 - mse: 36534.2266WARNING:tensorflow:Layers in a Sequential model should only have a single input tensor. Received: inputs={'winery': <tf.Tensor 'IteratorGetNext:8' shape=(None,) dtype=string>, 'wine': <tf.Tensor 'IteratorGetNext:7' shape=(None,) dtype=string>, 'year': <tf.Tensor 'IteratorGetNext:9' shape=(None,) dtype=int32>, 'rating': <tf.Tensor 'IteratorGetNext:4' shape=(None,) dtype=float64>, 'num_reviews': <tf.Tensor 'IteratorGetNext:3' shape=(None,) dtype=int64>, 'country': <tf.Tensor 'IteratorGetNext:2' shape=(None,) dtype=string>, 'region': <tf.Tensor 'IteratorGetNext:5' shape=(None,) dtype=string>, 'type': <tf.Tensor 'IteratorGetNext:6' shape=(None,) dtype=string>, 'body': <tf.Tensor 'IteratorGetNext:1' shape=(None,) dtype=float64>, 'acidity': <tf.Tensor 'IteratorGetNext:0' shape=(None,) dtype=float64>}. Consider rewriting this model with the Functional API.\n",
      "38/38 [==============================] - 2s 24ms/step - loss: 34700.3398 - mse: 34700.3398 - val_loss: 29347.4668 - val_mse: 29347.4668\n",
      "Epoch 2/10\n",
      "38/38 [==============================] - 0s 8ms/step - loss: 83910.8438 - mse: 83910.8438 - val_loss: 29299.8301 - val_mse: 29299.8301\n",
      "Epoch 3/10\n",
      "38/38 [==============================] - 0s 12ms/step - loss: 29087.6289 - mse: 29087.6289 - val_loss: 29236.5352 - val_mse: 29236.5352\n",
      "Epoch 4/10\n",
      "38/38 [==============================] - 0s 9ms/step - loss: 5372.7925 - mse: 5372.7925 - val_loss: 29128.0020 - val_mse: 29128.0020\n",
      "Epoch 5/10\n",
      "38/38 [==============================] - 1s 16ms/step - loss: 3497.7405 - mse: 3497.7405 - val_loss: 28971.8750 - val_mse: 28971.8750\n",
      "Epoch 6/10\n",
      "38/38 [==============================] - 0s 8ms/step - loss: 1900.0562 - mse: 1900.0562 - val_loss: 28715.7812 - val_mse: 28715.7812\n",
      "Epoch 7/10\n",
      "38/38 [==============================] - 0s 8ms/step - loss: 65006.5781 - mse: 65006.5781 - val_loss: 28142.7148 - val_mse: 28142.7148\n",
      "Epoch 8/10\n",
      "38/38 [==============================] - 0s 9ms/step - loss: 47774.5430 - mse: 47774.5430 - val_loss: 27672.9453 - val_mse: 27672.9453\n",
      "Epoch 9/10\n",
      "38/38 [==============================] - 0s 9ms/step - loss: 3088.4004 - mse: 3088.4004 - val_loss: 27349.6074 - val_mse: 27349.6074\n",
      "Epoch 10/10\n",
      "38/38 [==============================] - 0s 11ms/step - loss: 27982.1973 - mse: 27982.1973 - val_loss: 26874.9023 - val_mse: 26874.9023\n"
     ]
    }
   ],
   "source": [
    "# Now define the training parameters.\n",
    "# for featres, labels in train_ds.take(1):\n",
    "#     print('Every feature:', list(featres.values()))\n",
    "#     print('A batch of targets:', labels)\n",
    "\n",
    "NUM_EXAMPLES_TRAIN = len(train_ds)\n",
    "NUM_EPOCHS = 10\n",
    "steps_per_epoch = NUM_EXAMPLES_TRAIN//(10 * NUM_EPOCHS)\n",
    "\n",
    "model_base.compile(optimizer='adam', \n",
    "                    loss='mse', \n",
    "                    metrics=['mse'])\n",
    "\n",
    "print(train_ds.take(1))\n",
    "\n",
    "history_base = model_base.fit(train_ds,\n",
    "                        validation_data = val_ds,\n",
    "                        epochs = NUM_EPOCHS,\n",
    "                        steps_per_epoch = steps_per_epoch)\n"
   ]
  },
  {
   "cell_type": "code",
   "execution_count": 32,
   "metadata": {},
   "outputs": [
    {
     "data": {
      "image/png": "[encoded data removed]",
      "text/plain": [
       "<Figure size 720x360 with 2 Axes>"
      ]
     },
     "metadata": {
      "needs_background": "light"
     },
     "output_type": "display_data"
    }
   ],
   "source": [
    "plot_curves(history_base, ['loss', 'mse'])"
   ]
  },
  {
   "cell_type": "code",
   "execution_count": 33,
   "metadata": {},
   "outputs": [
    {
     "name": "stdout",
     "output_type": "stream",
     "text": [
      "WARNING:tensorflow:Layers in a Sequential model should only have a single input tensor. Received: inputs={'winery': <tf.Tensor 'IteratorGetNext:8' shape=(1,) dtype=string>, 'wine': <tf.Tensor 'IteratorGetNext:7' shape=(1,) dtype=string>, 'year': <tf.Tensor 'IteratorGetNext:9' shape=(1,) dtype=int32>, 'rating': <tf.Tensor 'IteratorGetNext:4' shape=(1,) dtype=float32>, 'num_reviews': <tf.Tensor 'IteratorGetNext:3' shape=(1,) dtype=int32>, 'country': <tf.Tensor 'IteratorGetNext:2' shape=(1,) dtype=string>, 'region': <tf.Tensor 'IteratorGetNext:5' shape=(1,) dtype=string>, 'type': <tf.Tensor 'IteratorGetNext:6' shape=(1,) dtype=string>, 'body': <tf.Tensor 'IteratorGetNext:1' shape=(1,) dtype=int32>, 'acidity': <tf.Tensor 'IteratorGetNext:0' shape=(1,) dtype=int32>}. Consider rewriting this model with the Functional API.\n"
     ]
    },
    {
     "data": {
      "text/plain": [
       "array([[0.09440526]], dtype=float32)"
      ]
     },
     "execution_count": 33,
     "metadata": {},
     "output_type": "execute_result"
    }
   ],
   "source": [
    "# A really bad prediction: \n",
    "model_base.predict({\n",
    "    \"winery\": tf.convert_to_tensor([\"Losada\"]),\n",
    "    \"wine\": tf.convert_to_tensor([\"Altos de Losada\"]),\n",
    "    \"year\": tf.convert_to_tensor([2018]),\n",
    "    \"rating\": tf.convert_to_tensor([4.2]),\n",
    "    \"num_reviews\": tf.convert_to_tensor([415]),\n",
    "    \"country\": tf.convert_to_tensor([\"Espana\"]),\n",
    "    \"region\": tf.convert_to_tensor([\"Bierzo\"]),\n",
    "    #\"price\": tf.convert_to_tensor([17.9]),\n",
    "    \"type\": tf.convert_to_tensor([\"Mencia\"]),\n",
    "    \"body\": tf.convert_to_tensor([3]),\n",
    "    \"acidity\": tf.convert_to_tensor([3])\n",
    "}, steps = 1)"
   ]
  },
  {
   "cell_type": "markdown",
   "metadata": {},
   "source": [
    "Now a model with more and better features:"
   ]
  },
  {
   "cell_type": "code",
   "execution_count": 34,
   "metadata": {},
   "outputs": [],
   "source": [
    "feature_columns = []\n",
    "\n",
    "# now use the normalizing function:\n",
    "for i in numeric_cols:\n",
    "    tabulador = normalize_fn(i)\n",
    "    feature_columns.append(fc.numeric_column(i, normalizer_fn=tabulador))\n",
    "\n",
    "# for categorical cols:\n",
    "# for winery (a lot of categories): \n",
    "winery_cat = fc.categorical_column_with_hash_bucket('winery', 10000)\n",
    "feature_columns.append(fc.embedding_column(winery_cat, dimension = 5))\n",
    "\n",
    "# bucketize years:\n",
    "# buckets = fc.bucketized_column('year', [])\n",
    "\n",
    "# for type (a bit less categories than winery): \n",
    "one_hot_type = fc.categorical_column_with_vocabulary_list('type', vocabulary_list= type_vocab)\n",
    "feature_columns.append(fc.indicator_column(one_hot_type))\n",
    "\n",
    "# for wine and region (a lot of categories):\n",
    "wine_cat = fc.categorical_column_with_hash_bucket('wine', 10000)\n",
    "feature_columns.append(fc.embedding_column(wine_cat, dimension=5)) \n",
    "region_cat = fc.categorical_column_with_hash_bucket('region', 1000)\n",
    "feature_columns.append(fc.embedding_column(region_cat, dimension=5))\n",
    "\n",
    "\n",
    "# The more reviews some wine has, the more credible is its rating:\n",
    "rating_review = fc.crossed_column(['rating', 'num_reviews'], 1000)\n",
    "rating_review_embeded = fc.embedding_column(rating_review, dimension=10)\n",
    "feature_columns.append(rating_review_embeded)"
   ]
  },
  {
   "cell_type": "code",
   "execution_count": 47,
   "metadata": {},
   "outputs": [
    {
     "name": "stdout",
     "output_type": "stream",
     "text": [
      "Size of the original dataset 6070\n",
      "Size of train dataset 3884\n"
     ]
    }
   ],
   "source": [
    "# exploring the year column \n",
    "# sea.displot(data = wine_ds, x = 'year')\n",
    "# wine_ds['year'].describe()    \n",
    "\n",
    "wine_ds.head()\n",
    "print(\"Size of the original dataset\", len(wine_ds))\n",
    "print(\"Size of train dataset\", len(train_ds))"
   ]
  },
  {
   "cell_type": "code",
   "execution_count": 50,
   "metadata": {},
   "outputs": [
    {
     "name": "stdout",
     "output_type": "stream",
     "text": [
      "Number of train examples:  3884\n",
      "<TakeDataset element_spec=({'winery': TensorSpec(shape=(None,), dtype=tf.string, name=None), 'wine': TensorSpec(shape=(None,), dtype=tf.string, name=None), 'year': TensorSpec(shape=(None,), dtype=tf.int32, name=None), 'rating': TensorSpec(shape=(None,), dtype=tf.float64, name=None), 'num_reviews': TensorSpec(shape=(None,), dtype=tf.int64, name=None), 'country': TensorSpec(shape=(None,), dtype=tf.string, name=None), 'region': TensorSpec(shape=(None,), dtype=tf.string, name=None), 'type': TensorSpec(shape=(None,), dtype=tf.string, name=None), 'body': TensorSpec(shape=(None,), dtype=tf.float64, name=None), 'acidity': TensorSpec(shape=(None,), dtype=tf.float64, name=None)}, TensorSpec(shape=(None,), dtype=tf.float64, name=None))>\n",
      "Epoch 1/5\n",
      "WARNING:tensorflow:Layers in a Sequential model should only have a single input tensor. Received: inputs={'winery': <tf.Tensor 'IteratorGetNext:8' shape=(None,) dtype=string>, 'wine': <tf.Tensor 'IteratorGetNext:7' shape=(None,) dtype=string>, 'year': <tf.Tensor 'IteratorGetNext:9' shape=(None,) dtype=int32>, 'rating': <tf.Tensor 'IteratorGetNext:4' shape=(None,) dtype=float64>, 'num_reviews': <tf.Tensor 'IteratorGetNext:3' shape=(None,) dtype=int64>, 'country': <tf.Tensor 'IteratorGetNext:2' shape=(None,) dtype=string>, 'region': <tf.Tensor 'IteratorGetNext:5' shape=(None,) dtype=string>, 'type': <tf.Tensor 'IteratorGetNext:6' shape=(None,) dtype=string>, 'body': <tf.Tensor 'IteratorGetNext:1' shape=(None,) dtype=float64>, 'acidity': <tf.Tensor 'IteratorGetNext:0' shape=(None,) dtype=float64>}. Consider rewriting this model with the Functional API.\n",
      "WARNING:tensorflow:Layers in a Sequential model should only have a single input tensor. Received: inputs={'winery': <tf.Tensor 'IteratorGetNext:8' shape=(None,) dtype=string>, 'wine': <tf.Tensor 'IteratorGetNext:7' shape=(None,) dtype=string>, 'year': <tf.Tensor 'IteratorGetNext:9' shape=(None,) dtype=int32>, 'rating': <tf.Tensor 'IteratorGetNext:4' shape=(None,) dtype=float64>, 'num_reviews': <tf.Tensor 'IteratorGetNext:3' shape=(None,) dtype=int64>, 'country': <tf.Tensor 'IteratorGetNext:2' shape=(None,) dtype=string>, 'region': <tf.Tensor 'IteratorGetNext:5' shape=(None,) dtype=string>, 'type': <tf.Tensor 'IteratorGetNext:6' shape=(None,) dtype=string>, 'body': <tf.Tensor 'IteratorGetNext:1' shape=(None,) dtype=float64>, 'acidity': <tf.Tensor 'IteratorGetNext:0' shape=(None,) dtype=float64>}. Consider rewriting this model with the Functional API.\n",
      "73/77 [===========================>..] - ETA: 0s - loss: 3144.2380 - mse: 3144.2380WARNING:tensorflow:Layers in a Sequential model should only have a single input tensor. Received: inputs={'winery': <tf.Tensor 'IteratorGetNext:8' shape=(None,) dtype=string>, 'wine': <tf.Tensor 'IteratorGetNext:7' shape=(None,) dtype=string>, 'year': <tf.Tensor 'IteratorGetNext:9' shape=(None,) dtype=int32>, 'rating': <tf.Tensor 'IteratorGetNext:4' shape=(None,) dtype=float64>, 'num_reviews': <tf.Tensor 'IteratorGetNext:3' shape=(None,) dtype=int64>, 'country': <tf.Tensor 'IteratorGetNext:2' shape=(None,) dtype=string>, 'region': <tf.Tensor 'IteratorGetNext:5' shape=(None,) dtype=string>, 'type': <tf.Tensor 'IteratorGetNext:6' shape=(None,) dtype=string>, 'body': <tf.Tensor 'IteratorGetNext:1' shape=(None,) dtype=float64>, 'acidity': <tf.Tensor 'IteratorGetNext:0' shape=(None,) dtype=float64>}. Consider rewriting this model with the Functional API.\n",
      "77/77 [==============================] - 3s 12ms/step - loss: 3190.0322 - mse: 3190.0322 - val_loss: 28300.3828 - val_mse: 28300.3828\n",
      "Epoch 2/5\n",
      "77/77 [==============================] - 0s 6ms/step - loss: 52431.7734 - mse: 52431.7734 - val_loss: 27821.9297 - val_mse: 27821.9297\n",
      "Epoch 3/5\n",
      "77/77 [==============================] - 1s 7ms/step - loss: 53050.5586 - mse: 53050.5586 - val_loss: 27259.6602 - val_mse: 27259.6602\n",
      "Epoch 4/5\n",
      "77/77 [==============================] - 0s 5ms/step - loss: 118591.8594 - mse: 118591.8594 - val_loss: 26723.5430 - val_mse: 26723.5430\n",
      "Epoch 5/5\n",
      "77/77 [==============================] - 0s 5ms/step - loss: 102974.5625 - mse: 102974.5625 - val_loss: 26481.4668 - val_mse: 26481.4668\n"
     ]
    }
   ],
   "source": [
    "# now time to compile and train:\n",
    "# Now define the training parameters.\n",
    "# for featres, labels in train_ds.take(1):\n",
    "#     print('Every feature:', list(featres.values()))\n",
    "#     print('A batch of targets:', labels)\n",
    "feature_layer = layers.DenseFeatures(feature_columns, dtype = 'float64')\n",
    "\n",
    "model_v1 = tf.keras.models.Sequential([\n",
    "    feature_layer,\n",
    "    layers.Dense(10, input_dim = 10,  activation='relu'),\n",
    "    layers.Dense(20, activation='relu'),\n",
    "    layers.Dense(1, activation='linear', name = 'price')\n",
    "])\n",
    "\n",
    "NUM_EXAMPLES_TRAIN = len(train_ds)\n",
    "print(\"Number of train examples: \", NUM_EXAMPLES_TRAIN)\n",
    "NUM_EPOCHS = 5\n",
    "steps_per_epoch = NUM_EXAMPLES_TRAIN//(10 * NUM_EPOCHS)\n",
    "\n",
    "model_v1.compile(optimizer='adam', \n",
    "                    loss='mse', \n",
    "                    metrics=['mse'])\n",
    "\n",
    "print(train_ds.take(1))\n",
    "\n",
    "history_v1 = model_v1.fit(train_ds,\n",
    "                        validation_data = val_ds,\n",
    "                        epochs = NUM_EPOCHS,\n",
    "                        steps_per_epoch = steps_per_epoch)\n"
   ]
  },
  {
   "cell_type": "code",
   "execution_count": 51,
   "metadata": {},
   "outputs": [
    {
     "data": {
      "image/png": "[encoded data removed]",
      "text/plain": [
       "<Figure size 720x360 with 2 Axes>"
      ]
     },
     "metadata": {
      "needs_background": "light"
     },
     "output_type": "display_data"
    }
   ],
   "source": [
    "plot_curves(history_v1, ['loss', 'mse'])"
   ]
  },
  {
   "cell_type": "code",
   "execution_count": 38,
   "metadata": {},
   "outputs": [
    {
     "name": "stdout",
     "output_type": "stream",
     "text": [
      "WARNING:tensorflow:Layers in a Sequential model should only have a single input tensor. Received: inputs={'winery': <tf.Tensor 'IteratorGetNext:8' shape=(1,) dtype=string>, 'wine': <tf.Tensor 'IteratorGetNext:7' shape=(1,) dtype=string>, 'year': <tf.Tensor 'IteratorGetNext:9' shape=(1,) dtype=int32>, 'rating': <tf.Tensor 'IteratorGetNext:4' shape=(1,) dtype=float32>, 'num_reviews': <tf.Tensor 'IteratorGetNext:3' shape=(1,) dtype=int32>, 'country': <tf.Tensor 'IteratorGetNext:2' shape=(1,) dtype=string>, 'region': <tf.Tensor 'IteratorGetNext:5' shape=(1,) dtype=string>, 'type': <tf.Tensor 'IteratorGetNext:6' shape=(1,) dtype=string>, 'body': <tf.Tensor 'IteratorGetNext:1' shape=(1,) dtype=int32>, 'acidity': <tf.Tensor 'IteratorGetNext:0' shape=(1,) dtype=int32>}. Consider rewriting this model with the Functional API.\n"
     ]
    },
    {
     "data": {
      "text/plain": [
       "array([[0.26770547]], dtype=float32)"
      ]
     },
     "execution_count": 38,
     "metadata": {},
     "output_type": "execute_result"
    }
   ],
   "source": [
    "model_v1.predict({\n",
    "    \"winery\": tf.convert_to_tensor([\"Losada\"]),\n",
    "    \"wine\": tf.convert_to_tensor([\"Altos de Losada\"]),\n",
    "    \"year\": tf.convert_to_tensor([2018]),\n",
    "    \"rating\": tf.convert_to_tensor([4.2]),\n",
    "    \"num_reviews\": tf.convert_to_tensor([415]),\n",
    "    \"country\": tf.convert_to_tensor([\"Espana\"]),\n",
    "    \"region\": tf.convert_to_tensor([\"Bierzo\"]),\n",
    "    #\"price\": tf.convert_to_tensor([17.9]),\n",
    "    \"type\": tf.convert_to_tensor([\"Mencia\"]),\n",
    "    \"body\": tf.convert_to_tensor([3]),\n",
    "    \"acidity\": tf.convert_to_tensor([3])\n",
    "}, steps = 1)"
   ]
  },
  {
   "cell_type": "code",
   "execution_count": null,
   "metadata": {},
   "outputs": [],
   "source": []
  }
 ],
 "metadata": {
  "interpreter": {
   "hash": "ad2bdc8ecc057115af97d19610ffacc2b4e99fae6737bb82f5d7fb13d2f2c186"
  },
  "kernelspec": {
   "display_name": "Python 3.9.7 ('base')",
   "language": "python",
   "name": "python3"
  },
  "language_info": {
   "codemirror_mode": {
    "name": "ipython",
    "version": 3
   },
   "file_extension": ".py",
   "mimetype": "text/x-python",
   "name": "python",
   "nbconvert_exporter": "python",
   "pygments_lexer": "ipython3",
   "version": "3.9.12"
  },
  "orig_nbformat": 4
 },
 "nbformat": 4,
 "nbformat_minor": 2
}
